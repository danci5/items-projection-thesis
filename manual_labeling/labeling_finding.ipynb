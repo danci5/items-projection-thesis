{
 "cells": [
  {
   "cell_type": "code",
   "execution_count": 1,
   "metadata": {},
   "outputs": [],
   "source": [
    "import pandas as pd\n",
    "import os\n",
    "os.chdir('/home/daniel/school/BP/pythesis')\n",
    "from data.prepare_data import *"
   ]
  },
  {
   "cell_type": "code",
   "execution_count": 2,
   "metadata": {},
   "outputs": [],
   "source": [
    "logs = pd.read_csv('data/nova_doplnovacka_log.csv', sep=';')\n",
    "questions = pd.read_csv('data/nova_doplnovacka_questions.csv', sep=';')\n",
    "system_ps_problem = pd.read_csv('data/system_ps_problem.csv', sep=';')\n",
    "system_ps = pd.read_csv('data/system_ps.csv', sep=';')\n",
    "system_kc = pd.read_csv('data/system_kc.csv', sep=';')\n",
    "basic_data = merge_logs_with_questions(logs, questions)\n",
    "ps_data = merge_data_with_practice_sets(basic_data, system_ps_problem, system_ps)"
   ]
  },
  {
   "cell_type": "markdown",
   "metadata": {},
   "source": [
    "# Data from knowledge component \n",
    "Chosen based on the counts of answers from knowledge component plots\n",
    "### Vyjmenovaná slova B - 26\n",
    "### Mekke a tvrde souhlasky - 71\n",
    "### Koncovky podstatnych jmen - 33, 34, 35\n",
    "### Koncovky pridavnych jmen - 36\n",
    "### Psani n/nn - 44"
   ]
  },
  {
   "cell_type": "code",
   "execution_count": 3,
   "metadata": {},
   "outputs": [],
   "source": [
    "# koncpodst = get_data_by_knowledge_component(ps_data, ...).drop_duplicates(['question'])\n",
    "slovab = ('Vyjmenovana slova B', get_data_by_knowledge_component(ps_data, 26).drop_duplicates(['question']))\n",
    "mekketvrde = ('Mekke a tvrde souhlasky', get_data_by_knowledge_component(ps_data, 71).drop_duplicates(['question']))\n",
    "koncprid = ('Koncovky pridavnych jmen', get_data_by_knowledge_component(ps_data, 36).drop_duplicates(['question']))\n",
    "psanin =  ('Psani n/nn', get_data_by_knowledge_component(ps_data, 44).drop_duplicates(['question']))"
   ]
  },
  {
   "cell_type": "code",
   "execution_count": 23,
   "metadata": {},
   "outputs": [
    {
     "name": "stdout",
     "output_type": "stream",
     "text": [
      "Vyjmenovana slova B 281 items\n",
      "Mekke a tvrde souhlasky 114 items\n",
      "Koncovky pridavnych jmen 107 items\n",
      "Psani n/nn 162 items\n"
     ]
    }
   ],
   "source": [
    "for name, i in [slovab,mekketvrde,koncprid,psanin]:\n",
    "    print(name + \" \" + str(len(i)) + \" items\")"
   ]
  },
  {
   "cell_type": "code",
   "execution_count": 58,
   "metadata": {},
   "outputs": [],
   "source": [
    "thelist = mekketvrde[1].question.tolist()\n",
    "thelist2 = mekketvrde[1].correct_answer.tolist()\n",
    "thefile = open('mekketvrde.txt', 'w')\n",
    "for item, item2 in zip(thelist, thelist2):\n",
    "    thefile.write(\"%s|%s\\n\" % (item,item2))"
   ]
  },
  {
   "cell_type": "code",
   "execution_count": 59,
   "metadata": {},
   "outputs": [],
   "source": [
    "thelist = koncprid[1].question.tolist()\n",
    "thelist2 = koncprid[1].correct_answer.tolist()\n",
    "thefile = open('koncprid.txt', 'w')\n",
    "for item, item2 in zip(thelist, thelist2):\n",
    "    thefile.write(\"%s|%s\\n\" % (item,item2))"
   ]
  },
  {
   "cell_type": "code",
   "execution_count": 61,
   "metadata": {},
   "outputs": [],
   "source": [
    "thelist = psanin[1].question.tolist()\n",
    "thelist2 = psanin[1].correct_answer.tolist()\n",
    "thefile = open('psanin.txt', 'w')\n",
    "for item, item2 in zip(thelist, thelist2):\n",
    "    thefile.write(\"%s|%s\\n\" % (item,item2))"
   ]
  },
  {
   "cell_type": "code",
   "execution_count": 119,
   "metadata": {},
   "outputs": [],
   "source": [
    "# HOW TO GET VYJMENOVANE SLOVA PO B\n",
    "slovab = get_vyjmenovana_slova_po_b(ps_data)"
   ]
  },
  {
   "cell_type": "code",
   "execution_count": 29,
   "metadata": {},
   "outputs": [],
   "source": [
    "# HOW TO GET KONCOVKY PRIDAVNYCH JMEN\n",
    "koncprid = get_data_by_knowledge_component(ps_data, 36)"
   ]
  },
  {
   "cell_type": "code",
   "execution_count": 34,
   "metadata": {},
   "outputs": [],
   "source": [
    "# HOW TO GET ...\n"
   ]
  }
 ],
 "metadata": {
  "kernelspec": {
   "display_name": "Python 3",
   "language": "python",
   "name": "python3"
  },
  "language_info": {
   "codemirror_mode": {
    "name": "ipython",
    "version": 3
   },
   "file_extension": ".py",
   "mimetype": "text/x-python",
   "name": "python",
   "nbconvert_exporter": "python",
   "pygments_lexer": "ipython3",
   "version": "3.5.2"
  }
 },
 "nbformat": 4,
 "nbformat_minor": 2
}
