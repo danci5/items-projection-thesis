{
 "cells": [
  {
   "cell_type": "code",
   "execution_count": 2,
   "metadata": {},
   "outputs": [],
   "source": [
    "import pandas as pd\n",
    "from sklearn.manifold import TSNE\n",
    "from gensim.models import Word2Vec\n",
    "from sklearn.decomposition import PCA\n",
    "import os\n",
    "os.chdir('/home/daniel/school/BP/pythesis')\n",
    "from data.prepare_word2vec_ed import get_word2vec_items\n",
    "from data.prepare_data import *\n",
    "from manual_labeling.labeled_data import SLOVA_PO_B"
   ]
  },
  {
   "cell_type": "code",
   "execution_count": 3,
   "metadata": {},
   "outputs": [],
   "source": [
    "logs = pd.read_csv('data/nova_doplnovacka_log.csv', sep=';')\n",
    "questions = pd.read_csv('data/nova_doplnovacka_questions.csv', sep=';')\n",
    "system_ps_problem = pd.read_csv('data/system_ps_problem.csv', sep=';')\n",
    "system_ps = pd.read_csv('data/system_ps.csv', sep=';')\n",
    "system_kc = pd.read_csv('data/system_kc.csv', sep=';')\n",
    "basic_data = merge_logs_with_questions(logs, questions)\n",
    "ps_data = merge_data_with_practice_sets(basic_data, system_ps_problem, system_ps)"
   ]
  },
  {
   "cell_type": "code",
   "execution_count": 4,
   "metadata": {},
   "outputs": [],
   "source": [
    "def get_data_by_knowledge_component(ps_data, kc_number):\n",
    "    \"\"\"\n",
    "    input is - parameter ps_data from 'merge_data_with_practice_sets'\n",
    "    parameter kc_number is the id of knowledge component from the dataset\n",
    "\n",
    "    example: get_data_by_knowledge_component(ps_data, 26) would return\n",
    "    the dataset of Vyjmenovaná slova B - 26 is its id\n",
    "    \"\"\"\n",
    "    return ps_data[ps_data['parent_kc'] == 26].drop_duplicates(['user', 'question_id'], keep='first').drop_duplicates(['id'], keep='first')"
   ]
  },
  {
   "cell_type": "code",
   "execution_count": 5,
   "metadata": {},
   "outputs": [
    {
     "data": {
      "text/plain": [
       "410207"
      ]
     },
     "execution_count": 5,
     "metadata": {},
     "output_type": "execute_result"
    }
   ],
   "source": [
    "len(ps_data[ps_data['parent_kc'] == 26].id)"
   ]
  },
  {
   "cell_type": "code",
   "execution_count": 6,
   "metadata": {},
   "outputs": [
    {
     "data": {
      "text/plain": [
       "307130"
      ]
     },
     "execution_count": 6,
     "metadata": {},
     "output_type": "execute_result"
    }
   ],
   "source": [
    "len(ps_data[ps_data['parent_kc'] == 26].drop_duplicates(['user', 'question_id'], keep='first').id)"
   ]
  },
  {
   "cell_type": "code",
   "execution_count": 7,
   "metadata": {},
   "outputs": [
    {
     "data": {
      "text/plain": [
       "307130"
      ]
     },
     "execution_count": 7,
     "metadata": {},
     "output_type": "execute_result"
    }
   ],
   "source": [
    "len(ps_data[ps_data['parent_kc'] == 26].drop_duplicates(['user', 'question_id'], keep='first').id.unique())"
   ]
  },
  {
   "cell_type": "code",
   "execution_count": 8,
   "metadata": {},
   "outputs": [
    {
     "data": {
      "text/plain": [
       "307130"
      ]
     },
     "execution_count": 8,
     "metadata": {},
     "output_type": "execute_result"
    }
   ],
   "source": [
    "len(ps_data[ps_data['parent_kc'] == 26].drop_duplicates(['user', 'question_id'], keep='first').drop_duplicates(['id'], keep='first').id.unique())"
   ]
  },
  {
   "cell_type": "code",
   "execution_count": 9,
   "metadata": {},
   "outputs": [
    {
     "data": {
      "text/plain": [
       "307130"
      ]
     },
     "execution_count": 9,
     "metadata": {},
     "output_type": "execute_result"
    }
   ],
   "source": [
    "len(get_data_by_knowledge_component(ps_data, 26))"
   ]
  },
  {
   "cell_type": "code",
   "execution_count": 10,
   "metadata": {},
   "outputs": [],
   "source": [
    "# data from knowledge component - Vyjmenovaná slova B\n",
    "data_from_kc = get_data_by_knowledge_component(ps_data, 26).drop_duplicates(['question'])"
   ]
  },
  {
   "cell_type": "code",
   "execution_count": 11,
   "metadata": {},
   "outputs": [],
   "source": [
    "# data from practice sets [383,384,385] - doplnovacka vyjmenovane slova B\n",
    "data_from_ps = get_vyjmenovana_slova_po_b(ps_data).drop_duplicates(['question'])"
   ]
  },
  {
   "cell_type": "code",
   "execution_count": 12,
   "metadata": {},
   "outputs": [
    {
     "data": {
      "text/html": [
       "<div>\n",
       "<style scoped>\n",
       "    .dataframe tbody tr th:only-of-type {\n",
       "        vertical-align: middle;\n",
       "    }\n",
       "\n",
       "    .dataframe tbody tr th {\n",
       "        vertical-align: top;\n",
       "    }\n",
       "\n",
       "    .dataframe thead th {\n",
       "        text-align: right;\n",
       "    }\n",
       "</style>\n",
       "<table border=\"1\" class=\"dataframe\">\n",
       "  <thead>\n",
       "    <tr style=\"text-align: right;\">\n",
       "      <th></th>\n",
       "      <th>id</th>\n",
       "      <th>user</th>\n",
       "      <th>correct</th>\n",
       "      <th>question_id</th>\n",
       "      <th>correct_answer</th>\n",
       "      <th>question</th>\n",
       "      <th>url</th>\n",
       "      <th>ps</th>\n",
       "      <th>parent_kc</th>\n",
       "      <th>exercise</th>\n",
       "    </tr>\n",
       "  </thead>\n",
       "  <tbody>\n",
       "    <tr>\n",
       "      <th>1949</th>\n",
       "      <td>1950</td>\n",
       "      <td>1338362</td>\n",
       "      <td>1</td>\n",
       "      <td>119</td>\n",
       "      <td>y</td>\n",
       "      <td>nesl_šně</td>\n",
       "      <td>diktat-vyjmenovana-slova-po-b-1-uroven</td>\n",
       "      <td>169</td>\n",
       "      <td>26</td>\n",
       "      <td>3</td>\n",
       "    </tr>\n",
       "    <tr>\n",
       "      <th>1951</th>\n",
       "      <td>1952</td>\n",
       "      <td>1338362</td>\n",
       "      <td>1</td>\n",
       "      <td>121</td>\n",
       "      <td>ý</td>\n",
       "      <td>ml_nský</td>\n",
       "      <td>diktat-vyjmenovana-slova-po-b-1-uroven</td>\n",
       "      <td>169</td>\n",
       "      <td>26</td>\n",
       "      <td>3</td>\n",
       "    </tr>\n",
       "    <tr>\n",
       "      <th>2355</th>\n",
       "      <td>2356</td>\n",
       "      <td>1338362</td>\n",
       "      <td>1</td>\n",
       "      <td>664</td>\n",
       "      <td>i</td>\n",
       "      <td>Z_kmund</td>\n",
       "      <td>rozrazovacka-dobyt-pobit-a-spol-2-uroven</td>\n",
       "      <td>324</td>\n",
       "      <td>26</td>\n",
       "      <td>11</td>\n",
       "    </tr>\n",
       "    <tr>\n",
       "      <th>2483</th>\n",
       "      <td>2484</td>\n",
       "      <td>1338362</td>\n",
       "      <td>1</td>\n",
       "      <td>666</td>\n",
       "      <td>i</td>\n",
       "      <td>z_ma</td>\n",
       "      <td>rozrazovacka-dobyt-pobit-a-spol-2-uroven</td>\n",
       "      <td>324</td>\n",
       "      <td>26</td>\n",
       "      <td>11</td>\n",
       "    </tr>\n",
       "    <tr>\n",
       "      <th>3248</th>\n",
       "      <td>3249</td>\n",
       "      <td>767227</td>\n",
       "      <td>1</td>\n",
       "      <td>120</td>\n",
       "      <td>ý</td>\n",
       "      <td>nesl_chaný</td>\n",
       "      <td>diktat-vyjmenovana-slova-po-b-1-uroven</td>\n",
       "      <td>169</td>\n",
       "      <td>26</td>\n",
       "      <td>3</td>\n",
       "    </tr>\n",
       "    <tr>\n",
       "      <th>3293</th>\n",
       "      <td>3294</td>\n",
       "      <td>767227</td>\n",
       "      <td>1</td>\n",
       "      <td>122</td>\n",
       "      <td>y</td>\n",
       "      <td>ml_nářka</td>\n",
       "      <td>diktat-vyjmenovana-slova-po-b-1-uroven</td>\n",
       "      <td>169</td>\n",
       "      <td>26</td>\n",
       "      <td>3</td>\n",
       "    </tr>\n",
       "    <tr>\n",
       "      <th>5595</th>\n",
       "      <td>5596</td>\n",
       "      <td>1338527</td>\n",
       "      <td>0</td>\n",
       "      <td>927</td>\n",
       "      <td>z</td>\n",
       "      <td>_hlédnout představení</td>\n",
       "      <td>rozrazovacka-dobyt-pobit-a-spol-2-uroven</td>\n",
       "      <td>324</td>\n",
       "      <td>26</td>\n",
       "      <td>11</td>\n",
       "    </tr>\n",
       "    <tr>\n",
       "      <th>5604</th>\n",
       "      <td>5605</td>\n",
       "      <td>1338527</td>\n",
       "      <td>1</td>\n",
       "      <td>928</td>\n",
       "      <td>s</td>\n",
       "      <td>_hlédnout z rozhledny</td>\n",
       "      <td>rozrazovacka-dobyt-pobit-a-spol-2-uroven</td>\n",
       "      <td>324</td>\n",
       "      <td>26</td>\n",
       "      <td>11</td>\n",
       "    </tr>\n",
       "    <tr>\n",
       "      <th>5693</th>\n",
       "      <td>5694</td>\n",
       "      <td>1338527</td>\n",
       "      <td>1</td>\n",
       "      <td>930</td>\n",
       "      <td>z</td>\n",
       "      <td>zkouška _ matematiky</td>\n",
       "      <td>rozrazovacka-dobyt-pobit-a-spol-2-uroven</td>\n",
       "      <td>324</td>\n",
       "      <td>26</td>\n",
       "      <td>11</td>\n",
       "    </tr>\n",
       "    <tr>\n",
       "      <th>16990</th>\n",
       "      <td>16991</td>\n",
       "      <td>1339137</td>\n",
       "      <td>1</td>\n",
       "      <td>668</td>\n",
       "      <td>i</td>\n",
       "      <td>ciz_nci</td>\n",
       "      <td>rozrazovacka-dobyt-pobit-a-spol-2-uroven</td>\n",
       "      <td>324</td>\n",
       "      <td>26</td>\n",
       "      <td>11</td>\n",
       "    </tr>\n",
       "    <tr>\n",
       "      <th>32590</th>\n",
       "      <td>32591</td>\n",
       "      <td>1340227</td>\n",
       "      <td>1</td>\n",
       "      <td>931</td>\n",
       "      <td>s</td>\n",
       "      <td>_let čarodějnic</td>\n",
       "      <td>rozrazovacka-dobyt-pobit-a-spol-2-uroven</td>\n",
       "      <td>324</td>\n",
       "      <td>26</td>\n",
       "      <td>11</td>\n",
       "    </tr>\n",
       "    <tr>\n",
       "      <th>50428</th>\n",
       "      <td>50429</td>\n",
       "      <td>1341787</td>\n",
       "      <td>1</td>\n",
       "      <td>929</td>\n",
       "      <td>s</td>\n",
       "      <td>_jednotit</td>\n",
       "      <td>rozrazovacka-dobyt-pobit-a-spol-2-uroven</td>\n",
       "      <td>324</td>\n",
       "      <td>26</td>\n",
       "      <td>11</td>\n",
       "    </tr>\n",
       "  </tbody>\n",
       "</table>\n",
       "</div>"
      ],
      "text/plain": [
       "          id     user  correct  question_id correct_answer  \\\n",
       "1949    1950  1338362        1          119              y   \n",
       "1951    1952  1338362        1          121              ý   \n",
       "2355    2356  1338362        1          664              i   \n",
       "2483    2484  1338362        1          666              i   \n",
       "3248    3249   767227        1          120              ý   \n",
       "3293    3294   767227        1          122              y   \n",
       "5595    5596  1338527        0          927              z   \n",
       "5604    5605  1338527        1          928              s   \n",
       "5693    5694  1338527        1          930              z   \n",
       "16990  16991  1339137        1          668              i   \n",
       "32590  32591  1340227        1          931              s   \n",
       "50428  50429  1341787        1          929              s   \n",
       "\n",
       "                    question                                       url   ps  \\\n",
       "1949                nesl_šně    diktat-vyjmenovana-slova-po-b-1-uroven  169   \n",
       "1951                 ml_nský    diktat-vyjmenovana-slova-po-b-1-uroven  169   \n",
       "2355                 Z_kmund  rozrazovacka-dobyt-pobit-a-spol-2-uroven  324   \n",
       "2483                    z_ma  rozrazovacka-dobyt-pobit-a-spol-2-uroven  324   \n",
       "3248              nesl_chaný    diktat-vyjmenovana-slova-po-b-1-uroven  169   \n",
       "3293                ml_nářka    diktat-vyjmenovana-slova-po-b-1-uroven  169   \n",
       "5595   _hlédnout představení  rozrazovacka-dobyt-pobit-a-spol-2-uroven  324   \n",
       "5604   _hlédnout z rozhledny  rozrazovacka-dobyt-pobit-a-spol-2-uroven  324   \n",
       "5693    zkouška _ matematiky  rozrazovacka-dobyt-pobit-a-spol-2-uroven  324   \n",
       "16990                ciz_nci  rozrazovacka-dobyt-pobit-a-spol-2-uroven  324   \n",
       "32590        _let čarodějnic  rozrazovacka-dobyt-pobit-a-spol-2-uroven  324   \n",
       "50428              _jednotit  rozrazovacka-dobyt-pobit-a-spol-2-uroven  324   \n",
       "\n",
       "       parent_kc  exercise  \n",
       "1949          26         3  \n",
       "1951          26         3  \n",
       "2355          26        11  \n",
       "2483          26        11  \n",
       "3248          26         3  \n",
       "3293          26         3  \n",
       "5595          26        11  \n",
       "5604          26        11  \n",
       "5693          26        11  \n",
       "16990         26        11  \n",
       "32590         26        11  \n",
       "50428         26        11  "
      ]
     },
     "execution_count": 12,
     "metadata": {},
     "output_type": "execute_result"
    }
   ],
   "source": [
    "data_from_kc[~data_from_kc.question.isin(data_from_ps.question)]"
   ]
  },
  {
   "cell_type": "code",
   "execution_count": 13,
   "metadata": {},
   "outputs": [
    {
     "data": {
      "text/plain": [
       "array([ 1, 26, 32])"
      ]
     },
     "execution_count": 13,
     "metadata": {},
     "output_type": "execute_result"
    }
   ],
   "source": [
    "ps_data[ps_data['question']=='ciz_nci'].parent_kc.unique()"
   ]
  },
  {
   "cell_type": "code",
   "execution_count": 14,
   "metadata": {},
   "outputs": [
    {
     "data": {
      "text/html": [
       "<div>\n",
       "<style scoped>\n",
       "    .dataframe tbody tr th:only-of-type {\n",
       "        vertical-align: middle;\n",
       "    }\n",
       "\n",
       "    .dataframe tbody tr th {\n",
       "        vertical-align: top;\n",
       "    }\n",
       "\n",
       "    .dataframe thead th {\n",
       "        text-align: right;\n",
       "    }\n",
       "</style>\n",
       "<table border=\"1\" class=\"dataframe\">\n",
       "  <thead>\n",
       "    <tr style=\"text-align: right;\">\n",
       "      <th></th>\n",
       "      <th>id</th>\n",
       "      <th>ps</th>\n",
       "      <th>problem</th>\n",
       "    </tr>\n",
       "  </thead>\n",
       "  <tbody>\n",
       "    <tr>\n",
       "      <th>3443</th>\n",
       "      <td>3444</td>\n",
       "      <td>14</td>\n",
       "      <td>668</td>\n",
       "    </tr>\n",
       "    <tr>\n",
       "      <th>6469</th>\n",
       "      <td>6470</td>\n",
       "      <td>98</td>\n",
       "      <td>668</td>\n",
       "    </tr>\n",
       "    <tr>\n",
       "      <th>13816</th>\n",
       "      <td>13817</td>\n",
       "      <td>324</td>\n",
       "      <td>668</td>\n",
       "    </tr>\n",
       "    <tr>\n",
       "      <th>17624</th>\n",
       "      <td>17647</td>\n",
       "      <td>396</td>\n",
       "      <td>668</td>\n",
       "    </tr>\n",
       "  </tbody>\n",
       "</table>\n",
       "</div>"
      ],
      "text/plain": [
       "          id   ps  problem\n",
       "3443    3444   14      668\n",
       "6469    6470   98      668\n",
       "13816  13817  324      668\n",
       "17624  17647  396      668"
      ]
     },
     "execution_count": 14,
     "metadata": {},
     "output_type": "execute_result"
    }
   ],
   "source": [
    "# ciz_inci - question_id 668 is in practice set - rozrazovacka-dobyt-pobit..\n",
    "system_ps_problem[system_ps_problem['problem']==668]"
   ]
  },
  {
   "cell_type": "code",
   "execution_count": 15,
   "metadata": {},
   "outputs": [
    {
     "data": {
      "text/html": [
       "<div>\n",
       "<style scoped>\n",
       "    .dataframe tbody tr th:only-of-type {\n",
       "        vertical-align: middle;\n",
       "    }\n",
       "\n",
       "    .dataframe tbody tr th {\n",
       "        vertical-align: top;\n",
       "    }\n",
       "\n",
       "    .dataframe thead th {\n",
       "        text-align: right;\n",
       "    }\n",
       "</style>\n",
       "<table border=\"1\" class=\"dataframe\">\n",
       "  <thead>\n",
       "    <tr style=\"text-align: right;\">\n",
       "      <th></th>\n",
       "      <th>id</th>\n",
       "      <th>ps</th>\n",
       "      <th>problem</th>\n",
       "    </tr>\n",
       "  </thead>\n",
       "  <tbody>\n",
       "    <tr>\n",
       "      <th>2777</th>\n",
       "      <td>2778</td>\n",
       "      <td>4</td>\n",
       "      <td>122</td>\n",
       "    </tr>\n",
       "    <tr>\n",
       "      <th>5952</th>\n",
       "      <td>5953</td>\n",
       "      <td>88</td>\n",
       "      <td>122</td>\n",
       "    </tr>\n",
       "    <tr>\n",
       "      <th>11879</th>\n",
       "      <td>11880</td>\n",
       "      <td>169</td>\n",
       "      <td>122</td>\n",
       "    </tr>\n",
       "    <tr>\n",
       "      <th>11980</th>\n",
       "      <td>11981</td>\n",
       "      <td>221</td>\n",
       "      <td>122</td>\n",
       "    </tr>\n",
       "    <tr>\n",
       "      <th>13083</th>\n",
       "      <td>13084</td>\n",
       "      <td>254</td>\n",
       "      <td>122</td>\n",
       "    </tr>\n",
       "    <tr>\n",
       "      <th>13364</th>\n",
       "      <td>13365</td>\n",
       "      <td>312</td>\n",
       "      <td>122</td>\n",
       "    </tr>\n",
       "    <tr>\n",
       "      <th>16958</th>\n",
       "      <td>16981</td>\n",
       "      <td>386</td>\n",
       "      <td>122</td>\n",
       "    </tr>\n",
       "    <tr>\n",
       "      <th>20151</th>\n",
       "      <td>20174</td>\n",
       "      <td>491</td>\n",
       "      <td>122</td>\n",
       "    </tr>\n",
       "  </tbody>\n",
       "</table>\n",
       "</div>"
      ],
      "text/plain": [
       "          id   ps  problem\n",
       "2777    2778    4      122\n",
       "5952    5953   88      122\n",
       "11879  11880  169      122\n",
       "11980  11981  221      122\n",
       "13083  13084  254      122\n",
       "13364  13365  312      122\n",
       "16958  16981  386      122\n",
       "20151  20174  491      122"
      ]
     },
     "execution_count": 15,
     "metadata": {},
     "output_type": "execute_result"
    }
   ],
   "source": [
    "# ml_narka - question_id 122 is in practice set - doplnovacka vyjmenovana slova B..\n",
    "system_ps_problem[system_ps_problem['problem']==122]"
   ]
  }
 ],
 "metadata": {
  "kernelspec": {
   "display_name": "Python 3",
   "language": "python",
   "name": "python3"
  },
  "language_info": {
   "codemirror_mode": {
    "name": "ipython",
    "version": 3
   },
   "file_extension": ".py",
   "mimetype": "text/x-python",
   "name": "python",
   "nbconvert_exporter": "python",
   "pygments_lexer": "ipython3",
   "version": "3.5.2"
  }
 },
 "nbformat": 4,
 "nbformat_minor": 2
}
