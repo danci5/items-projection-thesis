{
 "cells": [
  {
   "cell_type": "code",
   "execution_count": 128,
   "metadata": {},
   "outputs": [],
   "source": [
    "from sklearn.cluster import KMeans\n",
    "from gensim.models import Word2Vec\n",
    "from data.prepare_data import *\n",
    "from data.prepare_word2vec_ed import *\n",
    "from manual_labeling.labeled_data import SLOVA_PO_B, KONCOVKY_PRID_JMEN\n",
    "from similarities.text_similarities import levenshtein_similarity, levenshtein_similarity_with_threshold"
   ]
  },
  {
   "cell_type": "code",
   "execution_count": 129,
   "metadata": {},
   "outputs": [],
   "source": [
    "ps_data = get_ps_data()\n",
    "model = Word2Vec.load('utils/word2vec.model')\n",
    "\n",
    "slovab = {'name':'vyjmenovane_slova_b', 'data': get_vyjmenovana_slova_po_b(ps_data), 'labels': SLOVA_PO_B}\n",
    "koncprid = {'name':'koncovky_prid_jmena', 'data': get_data_by_knowledge_component(ps_data, 36), 'labels': KONCOVKY_PRID_JMEN}\n",
    "datasets = [slovab, koncprid]"
   ]
  },
  {
   "cell_type": "code",
   "execution_count": 170,
   "metadata": {},
   "outputs": [],
   "source": [
    "dataset = datasets[1]"
   ]
  },
  {
   "cell_type": "code",
   "execution_count": 171,
   "metadata": {},
   "outputs": [],
   "source": [
    "# ..to_csv('data/processed/vyjmenovana_slova_po_b.csv', index=False)\n",
    "\n",
    "# words which are also in my word2vec model and are labeled\n",
    "_, word2vec_data = get_word2vec_items(model, dataset['data'])\n",
    "label_data(word2vec_data, dataset['labels'])\n",
    "# some questions with same text are labeled in more question_ids\n",
    "word2vec_data.sort_values(['question_id'], inplace=True)\n",
    "word2vec_data.drop_duplicates(['question'], inplace=True)\n",
    "\n",
    "labeled_word2vec_data = word2vec_data[word2vec_data['manual_label'] != 0]"
   ]
  },
  {
   "cell_type": "code",
   "execution_count": null,
   "metadata": {},
   "outputs": [],
   "source": []
  },
  {
   "cell_type": "markdown",
   "metadata": {},
   "source": [
    "# Adjrandindex results - the similarity (based on pearson) is computed only from labeled answers"
   ]
  },
  {
   "cell_type": "code",
   "execution_count": 172,
   "metadata": {},
   "outputs": [],
   "source": [
    "# all answers which are labeled\n",
    "dataset['data']['full_solution'] = get_solutions(dataset['data'], 'full')\n",
    "label_data(dataset['data'], dataset['labels'])\n",
    "labeled_data = dataset['data'][dataset['data']['manual_label'] != 0]\n",
    "\n",
    "# all answers which are also in my word2vec model and are labeled\n",
    "labeled_data = labeled_data.loc[labeled_data['question_id'].isin(labeled_word2vec_data['question_id'])]"
   ]
  },
  {
   "cell_type": "code",
   "execution_count": 173,
   "metadata": {},
   "outputs": [],
   "source": [
    "# same assignment has two ids in the dataset => replace the id\n",
    "# labeled_slova_po_b[labeled_slova_po_b['question'] == 'b_otop'].question_id.unique()\n",
    "# -> array([6387,  237])\n",
    "# labeled_slova_po_b.loc[labeled_slova_po_b['question_id'] == 237] = 6387"
   ]
  },
  {
   "cell_type": "code",
   "execution_count": 174,
   "metadata": {},
   "outputs": [],
   "source": [
    "### ED ###\n",
    "editdistance = create_edit_similarity_matrix(labeled_word2vec_data['question_id'], labeled_word2vec_data['solution'], levenshtein_similarity)\n",
    "editdistance = editdistance.astype(float)\n",
    "\n",
    "### word2vec ###\n",
    "word2vec = create_word2vec_similarity_matrix(model, labeled_word2vec_data['question_id'], labeled_word2vec_data['solution'])"
   ]
  },
  {
   "cell_type": "code",
   "execution_count": 175,
   "metadata": {},
   "outputs": [],
   "source": [
    "### Pearson ###\n",
    "\n",
    "# count similarity based on whole dataset (all answers)\n",
    "correctness_matrix = reshape_to_correctness_matrix(dataset['data'])\n",
    "pearson1 = correctness_matrix_to_similarity_matrix('doublepearson', correctness_matrix)\n",
    "pearson2 = correctness_matrix_to_similarity_matrix('pearson', correctness_matrix)\n",
    "\n",
    "# all answers which are labeled and in word2vec model\n",
    "labeled = pearson2.columns.isin(labeled_word2vec_data['question_id'].unique())\n",
    "pearson2 = pearson2.loc[labeled, labeled]\n",
    "from similarities.performance_similarities import drop_nans\n",
    "pearson2 = drop_nans(pearson2)\n",
    "\n",
    "# same questions in all models - pearson could have NaN values which are not ok for clustering and had to be dropped\n",
    "pearson1_from_pearson = pearson1.columns.isin(pearson2.columns)\n",
    "editdistance_from_pearson = editdistance.columns.isin(pearson2.columns)\n",
    "word2vec_from_pearson = word2vec.columns.isin(pearson2.columns)\n",
    "pearson1 = pearson1.loc[pearson1_from_pearson, pearson1_from_pearson]\n",
    "editdistance = editdistance.loc[editdistance_from_pearson, editdistance_from_pearson]\n",
    "word2vec = word2vec.loc[word2vec_from_pearson, word2vec_from_pearson]"
   ]
  },
  {
   "cell_type": "code",
   "execution_count": 176,
   "metadata": {},
   "outputs": [],
   "source": [
    "def create_edit_similarity_matrix_with_threshold(index, solutions, similarity_function, M=4):\n",
    "    dataframe = pd.DataFrame(index=index,columns=index)\n",
    "    for i, j in zip(solutions, index):\n",
    "        for k, l in zip(solutions, index):\n",
    "                dataframe.loc[j, l] = similarity_function(i, k, M)\n",
    "    return dataframe"
   ]
  },
  {
   "cell_type": "code",
   "execution_count": 177,
   "metadata": {},
   "outputs": [],
   "source": [
    "editdistance_m_3 = create_edit_similarity_matrix_with_threshold(labeled_word2vec_data['question_id'], labeled_word2vec_data['solution'], levenshtein_similarity_with_threshold, 3)"
   ]
  },
  {
   "cell_type": "code",
   "execution_count": 178,
   "metadata": {},
   "outputs": [],
   "source": [
    "editdistance_m_4 = create_edit_similarity_matrix_with_threshold(labeled_word2vec_data['question_id'], labeled_word2vec_data['solution'], levenshtein_similarity_with_threshold, 4)"
   ]
  },
  {
   "cell_type": "code",
   "execution_count": 179,
   "metadata": {},
   "outputs": [],
   "source": [
    "editdistance_m_5 = create_edit_similarity_matrix_with_threshold(labeled_word2vec_data['question_id'], labeled_word2vec_data['solution'], levenshtein_similarity_with_threshold, M=5)"
   ]
  },
  {
   "cell_type": "code",
   "execution_count": 180,
   "metadata": {},
   "outputs": [],
   "source": [
    "editdistance_m_6 = create_edit_similarity_matrix_with_threshold(labeled_word2vec_data['question_id'], labeled_word2vec_data['solution'], levenshtein_similarity_with_threshold, M=6)"
   ]
  },
  {
   "cell_type": "code",
   "execution_count": 181,
   "metadata": {},
   "outputs": [],
   "source": [
    "editdistance_m_7 = create_edit_similarity_matrix_with_threshold(labeled_word2vec_data['question_id'], labeled_word2vec_data['solution'], levenshtein_similarity_with_threshold, M=7)"
   ]
  },
  {
   "cell_type": "code",
   "execution_count": 182,
   "metadata": {},
   "outputs": [],
   "source": [
    "editdistance_m_8 = create_edit_similarity_matrix_with_threshold(labeled_word2vec_data['question_id'], labeled_word2vec_data['solution'], levenshtein_similarity_with_threshold, M=8)"
   ]
  },
  {
   "cell_type": "code",
   "execution_count": 183,
   "metadata": {},
   "outputs": [],
   "source": [
    "from sklearn.cluster import AgglomerativeClustering, DBSCAN\n",
    "clustering = AgglomerativeClustering(n_clusters=len(dataset['labels']), affinity='euclidean', linkage='ward')"
   ]
  },
  {
   "cell_type": "code",
   "execution_count": 184,
   "metadata": {},
   "outputs": [
    {
     "data": {
      "text/plain": [
       "array([0, 0, 6, 1, 1, 5, 0, 6, 1, 0, 2, 1, 6, 0, 6, 0, 6, 3, 3, 5, 2, 1,\n",
       "       4, 1, 3, 1, 1, 4, 2, 5, 4, 0, 6, 1, 2, 3, 3, 3, 5, 0, 4, 2, 2, 3,\n",
       "       3, 1, 3, 1, 3, 5, 1, 4, 5, 3, 0, 2, 2, 0, 3, 4, 2, 4, 4, 2, 4, 4])"
      ]
     },
     "execution_count": 184,
     "metadata": {},
     "output_type": "execute_result"
    }
   ],
   "source": [
    "# kmeans.fit_transform(pearson1)\n",
    "clustering.fit_predict(pearson1)"
   ]
  },
  {
   "cell_type": "code",
   "execution_count": 185,
   "metadata": {},
   "outputs": [
    {
     "data": {
      "text/plain": [
       "array([4, 3, 1, 1, 5, 4, 1, 1, 1, 5, 2, 0, 1, 3, 3, 4, 1, 0, 0, 4, 2, 1,\n",
       "       0, 1, 0, 5, 5, 1, 2, 4, 6, 4, 1, 1, 2, 3, 0, 0, 4, 1, 5, 2, 3, 3,\n",
       "       3, 0, 3, 5, 6, 4, 5, 5, 4, 0, 2, 2, 2, 3, 0, 2, 6, 6, 0, 3, 0, 0])"
      ]
     },
     "execution_count": 185,
     "metadata": {},
     "output_type": "execute_result"
    }
   ],
   "source": [
    "clustering.fit_predict(pearson2)"
   ]
  },
  {
   "cell_type": "code",
   "execution_count": 186,
   "metadata": {},
   "outputs": [
    {
     "data": {
      "text/plain": [
       "array([2, 4, 0, 2, 0, 1, 0, 0, 0, 4, 4, 3, 0, 0, 3, 4, 0, 1, 0, 1, 4, 6,\n",
       "       2, 6, 2, 6, 5, 6, 3, 1, 2, 1, 0, 0, 2, 2, 2, 4, 1, 5, 0, 4, 4, 3,\n",
       "       4, 3, 0, 5, 3, 1, 2, 3, 1, 3, 3, 3, 0, 3, 0, 3, 3, 0, 5, 4, 6, 3])"
      ]
     },
     "execution_count": 186,
     "metadata": {},
     "output_type": "execute_result"
    }
   ],
   "source": [
    "clustering.fit_predict(word2vec)"
   ]
  },
  {
   "cell_type": "code",
   "execution_count": 187,
   "metadata": {},
   "outputs": [
    {
     "data": {
      "text/plain": [
       "array([5, 4, 3, 4, 1, 2, 1, 3, 1, 6, 2, 1, 3, 3, 1, 2, 3, 2, 1, 6, 6, 0,\n",
       "       0, 0, 4, 3, 0, 0, 5, 6, 0, 5, 1, 1, 0, 4, 4, 2, 6, 3, 1, 2, 6, 3,\n",
       "       2, 1, 1, 0, 1, 6, 5, 5, 5, 4, 4, 4, 1, 1, 3, 2, 1, 1, 0, 2, 0, 0])"
      ]
     },
     "execution_count": 187,
     "metadata": {},
     "output_type": "execute_result"
    }
   ],
   "source": [
    "clustering.fit_predict(editdistance)"
   ]
  },
  {
   "cell_type": "code",
   "execution_count": 188,
   "metadata": {},
   "outputs": [],
   "source": [
    "clusters = labeled_word2vec_data['manual_label'].unique()"
   ]
  },
  {
   "cell_type": "code",
   "execution_count": 189,
   "metadata": {},
   "outputs": [
    {
     "data": {
      "text/plain": [
       "7"
      ]
     },
     "execution_count": 189,
     "metadata": {},
     "output_type": "execute_result"
    }
   ],
   "source": [
    "len(clusters)"
   ]
  },
  {
   "cell_type": "code",
   "execution_count": 190,
   "metadata": {},
   "outputs": [],
   "source": [
    "from sklearn.metrics import adjusted_rand_score"
   ]
  },
  {
   "cell_type": "code",
   "execution_count": 191,
   "metadata": {},
   "outputs": [],
   "source": [
    "method = editdistance\n",
    "X = method\n",
    "question_ids = X.index"
   ]
  },
  {
   "cell_type": "code",
   "execution_count": 192,
   "metadata": {},
   "outputs": [],
   "source": [
    "labeled_data = labeled_data.set_index('question_id')"
   ]
  },
  {
   "cell_type": "code",
   "execution_count": 193,
   "metadata": {},
   "outputs": [],
   "source": [
    "ground_truth = np.array([labeled_data.at[question_id, 'manual_label'][0] for question_id in question_ids])"
   ]
  },
  {
   "cell_type": "code",
   "execution_count": 194,
   "metadata": {},
   "outputs": [],
   "source": [
    "cluster_labels = clustering.fit_predict(editdistance)"
   ]
  },
  {
   "cell_type": "code",
   "execution_count": 195,
   "metadata": {},
   "outputs": [
    {
     "data": {
      "text/plain": [
       "0.4907543423875787"
      ]
     },
     "execution_count": 195,
     "metadata": {},
     "output_type": "execute_result"
    }
   ],
   "source": [
    "adjusted_rand_score(ground_truth, cluster_labels)"
   ]
  },
  {
   "cell_type": "code",
   "execution_count": 196,
   "metadata": {},
   "outputs": [
    {
     "name": "stdout",
     "output_type": "stream",
     "text": [
      "pearson\n",
      "doublepearson\n",
      "edit_distance\n",
      "word2vec\n",
      "ed_threshold_3\n",
      "ed_threshold_4\n",
      "ed_threshold_5\n",
      "ed_threshold_6\n",
      "ed_threshold_7\n",
      "ed_threshold_8\n"
     ]
    }
   ],
   "source": [
    "similarities = [('pearson', pearson2), ('doublepearson', pearson1), ('edit_distance', editdistance), ('word2vec', word2vec), ('ed_threshold_3', editdistance_m_3), ('ed_threshold_4', editdistance_m_4), ('ed_threshold_5', editdistance_m_5), ('ed_threshold_6', editdistance_m_6), ('ed_threshold_7', editdistance_m_7), ('ed_threshold_8', editdistance_m_8)]\n",
    "adj_randindex = []\n",
    "for similarity_name, X in similarities:\n",
    "    print(similarity_name)\n",
    "    ground_truth = np.array([labeled_data.at[question_id, 'manual_label'][0] for question_id in X.index])\n",
    "    cluster_labels = clustering.fit_predict(X)\n",
    "    adj_randindex.append(adjusted_rand_score(ground_truth, cluster_labels))"
   ]
  },
  {
   "cell_type": "code",
   "execution_count": 197,
   "metadata": {},
   "outputs": [
    {
     "data": {
      "text/plain": [
       "[0.12466713134237664,\n",
       " 0.1261100362157067,\n",
       " 0.4907543423875787,\n",
       " 0.5038578081732892,\n",
       " 0.11843994050087103,\n",
       " 0.13575612353567623,\n",
       " 0.19819068630005576,\n",
       " 0.3236116981663748,\n",
       " 0.257710637532596,\n",
       " 0.3635036646416052]"
      ]
     },
     "execution_count": 197,
     "metadata": {},
     "output_type": "execute_result"
    }
   ],
   "source": [
    "adj_randindex"
   ]
  },
  {
   "cell_type": "code",
   "execution_count": 198,
   "metadata": {},
   "outputs": [],
   "source": [
    "similarities = [name for name, _ in similarities]\n",
    "data = {'similarity': similarities, 'randindex': adj_randindex}\n",
    "df = pd.DataFrame(data)"
   ]
  },
  {
   "cell_type": "code",
   "execution_count": 199,
   "metadata": {},
   "outputs": [
    {
     "data": {
      "text/html": [
       "<div>\n",
       "<style scoped>\n",
       "    .dataframe tbody tr th:only-of-type {\n",
       "        vertical-align: middle;\n",
       "    }\n",
       "\n",
       "    .dataframe tbody tr th {\n",
       "        vertical-align: top;\n",
       "    }\n",
       "\n",
       "    .dataframe thead th {\n",
       "        text-align: right;\n",
       "    }\n",
       "</style>\n",
       "<table border=\"1\" class=\"dataframe\">\n",
       "  <thead>\n",
       "    <tr style=\"text-align: right;\">\n",
       "      <th></th>\n",
       "      <th>randindex</th>\n",
       "      <th>similarity</th>\n",
       "    </tr>\n",
       "  </thead>\n",
       "  <tbody>\n",
       "    <tr>\n",
       "      <th>0</th>\n",
       "      <td>0.124667</td>\n",
       "      <td>pearson</td>\n",
       "    </tr>\n",
       "    <tr>\n",
       "      <th>1</th>\n",
       "      <td>0.126110</td>\n",
       "      <td>doublepearson</td>\n",
       "    </tr>\n",
       "    <tr>\n",
       "      <th>2</th>\n",
       "      <td>0.490754</td>\n",
       "      <td>edit_distance</td>\n",
       "    </tr>\n",
       "    <tr>\n",
       "      <th>3</th>\n",
       "      <td>0.503858</td>\n",
       "      <td>word2vec</td>\n",
       "    </tr>\n",
       "    <tr>\n",
       "      <th>4</th>\n",
       "      <td>0.118440</td>\n",
       "      <td>ed_threshold_3</td>\n",
       "    </tr>\n",
       "    <tr>\n",
       "      <th>5</th>\n",
       "      <td>0.135756</td>\n",
       "      <td>ed_threshold_4</td>\n",
       "    </tr>\n",
       "    <tr>\n",
       "      <th>6</th>\n",
       "      <td>0.198191</td>\n",
       "      <td>ed_threshold_5</td>\n",
       "    </tr>\n",
       "    <tr>\n",
       "      <th>7</th>\n",
       "      <td>0.323612</td>\n",
       "      <td>ed_threshold_6</td>\n",
       "    </tr>\n",
       "    <tr>\n",
       "      <th>8</th>\n",
       "      <td>0.257711</td>\n",
       "      <td>ed_threshold_7</td>\n",
       "    </tr>\n",
       "    <tr>\n",
       "      <th>9</th>\n",
       "      <td>0.363504</td>\n",
       "      <td>ed_threshold_8</td>\n",
       "    </tr>\n",
       "  </tbody>\n",
       "</table>\n",
       "</div>"
      ],
      "text/plain": [
       "   randindex      similarity\n",
       "0   0.124667         pearson\n",
       "1   0.126110   doublepearson\n",
       "2   0.490754   edit_distance\n",
       "3   0.503858        word2vec\n",
       "4   0.118440  ed_threshold_3\n",
       "5   0.135756  ed_threshold_4\n",
       "6   0.198191  ed_threshold_5\n",
       "7   0.323612  ed_threshold_6\n",
       "8   0.257711  ed_threshold_7\n",
       "9   0.363504  ed_threshold_8"
      ]
     },
     "execution_count": 199,
     "metadata": {},
     "output_type": "execute_result"
    }
   ],
   "source": [
    "df"
   ]
  },
  {
   "cell_type": "code",
   "execution_count": 200,
   "metadata": {},
   "outputs": [],
   "source": [
    "%matplotlib inline"
   ]
  },
  {
   "cell_type": "code",
   "execution_count": 201,
   "metadata": {},
   "outputs": [
    {
     "data": {
      "image/png": "[encoded data removed]",
      "text/plain": [
       "<matplotlib.figure.Figure at 0x7ff7f523cda0>"
      ]
     },
     "metadata": {},
     "output_type": "display_data"
    }
   ],
   "source": [
    "# df.plot(kind='bar', x='similarity', figsize=(8,5))\n",
    "import seaborn as sns\n",
    "sns_plot = sns.barplot(data=df, x='similarity', y='randindex')\n",
    "fig = sns_plot.get_figure()\n",
    "fig.set_size_inches(14,5)\n",
    "sns_plot.set(ylim=(0, 1))\n",
    "sns_plot.set(xlabel='', ylabel='')\n",
    "fig.savefig('visualizations/seaborn/clustering_randindex-edit_distance_thresholds-%s.png' % dataset['name'])"
   ]
  },
  {
   "cell_type": "code",
   "execution_count": null,
   "metadata": {},
   "outputs": [],
   "source": []
  },
  {
   "cell_type": "code",
   "execution_count": null,
   "metadata": {},
   "outputs": [],
   "source": []
  },
  {
   "cell_type": "code",
   "execution_count": 202,
   "metadata": {},
   "outputs": [
    {
     "name": "stdout",
     "output_type": "stream",
     "text": [
      "pearson\n",
      "doublepearson\n",
      "edit_distance\n",
      "word2vec\n"
     ]
    }
   ],
   "source": [
    "similarities = [('pearson', pearson2), ('doublepearson', pearson1), ('edit_distance', editdistance), ('word2vec', word2vec)]\n",
    "adj_randindex = []\n",
    "for similarity_name, X in similarities:\n",
    "    print(similarity_name)\n",
    "    ground_truth = np.array([labeled_data.at[question_id, 'manual_label'][0] for question_id in X.index])\n",
    "    cluster_labels = clustering.fit_predict(X)\n",
    "    adj_randindex.append(adjusted_rand_score(ground_truth, cluster_labels))\n",
    "similarities = [name for name, _ in similarities if name]\n",
    "data = {'similarity': similarities, 'randindex': adj_randindex}\n",
    "df2 = pd.DataFrame(data)"
   ]
  },
  {
   "cell_type": "code",
   "execution_count": 203,
   "metadata": {},
   "outputs": [
    {
     "data": {
      "image/png": "[encoded data removed]",
      "text/plain": [
       "<matplotlib.figure.Figure at 0x7ff7e880e0f0>"
      ]
     },
     "metadata": {},
     "output_type": "display_data"
    }
   ],
   "source": [
    "import seaborn as sns\n",
    "sns_plot = sns.barplot(data=df2, x='similarity', y='randindex')\n",
    "fig = sns_plot.get_figure()\n",
    "fig.set_size_inches(7,5)\n",
    "# plt.ylim(10, 40)\n",
    "sns_plot.set(ylim=(0, 1))\n",
    "sns_plot.set(xlabel='', ylabel='')\n",
    "fig.savefig('visualizations/seaborn/clustering_randindex-%s.png' % dataset['name'])"
   ]
  },
  {
   "cell_type": "code",
   "execution_count": null,
   "metadata": {},
   "outputs": [],
   "source": []
  },
  {
   "cell_type": "code",
   "execution_count": null,
   "metadata": {},
   "outputs": [],
   "source": []
  },
  {
   "cell_type": "markdown",
   "metadata": {},
   "source": [
    "# Visualizing only labeled data"
   ]
  },
  {
   "cell_type": "code",
   "execution_count": 150,
   "metadata": {},
   "outputs": [
    {
     "ename": "TypeError",
     "evalue": "levenshtein_similarity_with_threshold() missing 2 required positional arguments: 's1' and 's2'",
     "output_type": "error",
     "traceback": [
      "\u001b[0;31m---------------------------------------------------------------------------\u001b[0m",
      "\u001b[0;31mTypeError\u001b[0m                                 Traceback (most recent call last)",
      "\u001b[0;32m<ipython-input-150-c6cb140f7bd7>\u001b[0m in \u001b[0;36m<module>\u001b[0;34m()\u001b[0m\n\u001b[0;32m----> 1\u001b[0;31m \u001b[0meditdistance\u001b[0m \u001b[0;34m=\u001b[0m \u001b[0mcreate_edit_similarity_matrix\u001b[0m\u001b[0;34m(\u001b[0m\u001b[0mlabeled_word2vec_data\u001b[0m\u001b[0;34m[\u001b[0m\u001b[0;34m'question_id'\u001b[0m\u001b[0;34m]\u001b[0m\u001b[0;34m,\u001b[0m \u001b[0mlabeled_word2vec_data\u001b[0m\u001b[0;34m[\u001b[0m\u001b[0;34m'solution'\u001b[0m\u001b[0;34m]\u001b[0m\u001b[0;34m,\u001b[0m \u001b[0mlevenshtein_similarity_with_threshold\u001b[0m\u001b[0;34m(\u001b[0m\u001b[0mM\u001b[0m\u001b[0;34m=\u001b[0m\u001b[0;36m4\u001b[0m\u001b[0;34m)\u001b[0m\u001b[0;34m)\u001b[0m\u001b[0;34m\u001b[0m\u001b[0m\n\u001b[0m\u001b[1;32m      2\u001b[0m \u001b[0meditdistance\u001b[0m \u001b[0;34m=\u001b[0m \u001b[0meditdistance\u001b[0m\u001b[0;34m.\u001b[0m\u001b[0mastype\u001b[0m\u001b[0;34m(\u001b[0m\u001b[0mfloat\u001b[0m\u001b[0;34m)\u001b[0m\u001b[0;34m\u001b[0m\u001b[0m\n",
      "\u001b[0;31mTypeError\u001b[0m: levenshtein_similarity_with_threshold() missing 2 required positional arguments: 's1' and 's2'"
     ]
    }
   ],
   "source": [
    "editdistancethreshold = create_edit_similarity_matrix(labeled_word2vec_data['question_id'], labeled_word2vec_data['solution'], levenshtein_similarity_with_threshold)\n",
    "editdistance = editdistance.astype(float)"
   ]
  },
  {
   "cell_type": "code",
   "execution_count": null,
   "metadata": {},
   "outputs": [],
   "source": []
  },
  {
   "cell_type": "code",
   "execution_count": 142,
   "metadata": {},
   "outputs": [],
   "source": [
    "dataset['data']['question_id'] = dataset['data'].index"
   ]
  },
  {
   "cell_type": "code",
   "execution_count": 143,
   "metadata": {},
   "outputs": [],
   "source": [
    "data = dataset['data'][dataset['data']['question_id'].isin(pearson2.index)].drop_duplicates(['question_id'])"
   ]
  },
  {
   "cell_type": "code",
   "execution_count": 144,
   "metadata": {},
   "outputs": [
    {
     "data": {
      "text/plain": [
       "66"
      ]
     },
     "execution_count": 144,
     "metadata": {},
     "output_type": "execute_result"
    }
   ],
   "source": [
    "len(data)"
   ]
  },
  {
   "cell_type": "code",
   "execution_count": 148,
   "metadata": {},
   "outputs": [
    {
     "data": {
      "image/png": "[encoded data removed]",
      "text/plain": [
       "<matplotlib.figure.Figure at 0x7f2fd7c2e7f0>"
      ]
     },
     "metadata": {},
     "output_type": "display_data"
    }
   ],
   "source": [
    "from sklearn.decomposition import PCA\n",
    "from projections.base_projection import *\n",
    "model = PCA(n_components=2)\n",
    "result = model.fit_transform(pearson1)\n",
    "# create a scatter plot of the projections\n",
    "x_positions = result[:, 0]\n",
    "y_positions = result[:, 1]\n",
    "\n",
    "projection = Projection(x_positions, y_positions, data.copy(), data_name='pridjmena', model=model)\n",
    "projection.matplotlib_plot_with_manual_labels(figsize=(20,15), save_path='visualizations/editdistance-withthreshold-vis-%s.png' % dataset['name'], annotate=True)"
   ]
  }
 ],
 "metadata": {
  "kernelspec": {
   "display_name": "Python 3",
   "language": "python",
   "name": "python3"
  },
  "language_info": {
   "codemirror_mode": {
    "name": "ipython",
    "version": 3
   },
   "file_extension": ".py",
   "mimetype": "text/x-python",
   "name": "python",
   "nbconvert_exporter": "python",
   "pygments_lexer": "ipython3",
   "version": "3.5.2"
  }
 },
 "nbformat": 4,
 "nbformat_minor": 2
}
