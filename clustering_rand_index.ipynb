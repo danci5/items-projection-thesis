{
 "cells": [
  {
   "cell_type": "code",
   "execution_count": 109,
   "metadata": {},
   "outputs": [],
   "source": [
    "from sklearn.cluster import KMeans\n",
    "from gensim.models import Word2Vec\n",
    "from data.prepare_data import *\n",
    "from data.prepare_word2vec_ed import *\n",
    "from manual_labeling.labeled_data import SLOVA_PO_B\n",
    "from similarities.text_similarities import levenshtein_similarity\n",
    "\n",
    "model = Word2Vec.load('utils/word2vec.model')\n",
    "slova_po_b = pd.read_csv('data/processed/vyjmenovana_slova_po_b.csv')\n",
    "\n",
    "# words which are also in my word2vec model and are labeled\n",
    "X, word2vec_data = get_word2vec_items(model, slova_po_b)\n",
    "label_data(word2vec_data, SLOVA_PO_B)\n",
    "labeled_word2vec_data = word2vec_data[word2vec_data['manual_label'] != 0]\n",
    "\n",
    "# all answers which are labeled\n",
    "slova_po_b['full_solution'] = get_solutions(slova_po_b, 'full')\n",
    "label_data(slova_po_b, SLOVA_PO_B)\n",
    "labeled_slova_po_b = slova_po_b[slova_po_b['manual_label'] != 0]\n",
    "\n",
    "# all answers which are also in my word2vec model and are labeled\n",
    "labeled_slova_po_b = labeled_slova_po_b.loc[labeled_slova_po_b['question'].isin(labeled_word2vec_data['question'])]"
   ]
  },
  {
   "cell_type": "code",
   "execution_count": 110,
   "metadata": {},
   "outputs": [],
   "source": [
    "# same assignment has two ids in the dataset => replace the id\n",
    "# labeled_slova_po_b[labeled_slova_po_b['question'] == 'b_otop'].question_id.unique()\n",
    "# -> array([6387,  237])\n",
    "labeled_slova_po_b.loc[labeled_slova_po_b['question_id'] == 237] = 6387"
   ]
  },
  {
   "cell_type": "code",
   "execution_count": 111,
   "metadata": {},
   "outputs": [],
   "source": [
    "### ED ###\n",
    "edit1 = create_edit_similarity_matrix(labeled_word2vec_data['question_id'], labeled_word2vec_data['solution'], levenshtein_similarity)\n",
    "edit1 = edit1.astype(float)\n",
    "\n",
    "### word2vec ###\n",
    "word2vec = create_word2vec_similarity_matrix(model, labeled_word2vec_data['question_id'], labeled_word2vec_data['solution'])\n",
    "\n",
    "### pearson ###\n",
    "correctness_matrix = reshape_to_correctness_matrix(labeled_slova_po_b)\n",
    "pearson1 = correctness_matrix_to_similarity_matrix('doublepearson', correctness_matrix)\n",
    "pearson2 = correctness_matrix_to_similarity_matrix('pearson', correctness_matrix)"
   ]
  },
  {
   "cell_type": "code",
   "execution_count": 115,
   "metadata": {},
   "outputs": [],
   "source": [
    "kmeans = KMeans(n_clusters=8)"
   ]
  },
  {
   "cell_type": "code",
   "execution_count": 116,
   "metadata": {},
   "outputs": [
    {
     "data": {
      "text/plain": [
       "array([6, 6, 6, 6, 6, 2, 3, 2, 3, 1, 0, 0, 7, 0, 5, 7, 5, 5, 7, 7, 3, 4,\n",
       "       2, 4, 4, 4, 2, 1, 3, 5, 1, 0, 0, 1, 2, 1, 4, 4, 1], dtype=int32)"
      ]
     },
     "execution_count": 116,
     "metadata": {},
     "output_type": "execute_result"
    }
   ],
   "source": [
    "# kmeans.fit_transform(pearson1)\n",
    "kmeans.fit_predict(pearson1)"
   ]
  },
  {
   "cell_type": "code",
   "execution_count": 117,
   "metadata": {},
   "outputs": [
    {
     "data": {
      "text/plain": [
       "array([3, 3, 3, 3, 3, 7, 5, 1, 5, 4, 0, 0, 1, 0, 6, 7, 6, 6, 1, 1, 5, 2,\n",
       "       7, 2, 2, 2, 1, 4, 4, 6, 5, 0, 0, 4, 1, 4, 2, 2, 4], dtype=int32)"
      ]
     },
     "execution_count": 117,
     "metadata": {},
     "output_type": "execute_result"
    }
   ],
   "source": [
    "kmeans.fit_predict(pearson2)"
   ]
  },
  {
   "cell_type": "code",
   "execution_count": 118,
   "metadata": {},
   "outputs": [
    {
     "data": {
      "text/plain": [
       "array([1, 4, 7, 4, 1, 4, 4, 1, 0, 0, 3, 0, 1, 2, 0, 0, 4, 4, 2, 1, 1, 7,\n",
       "       4, 6, 5, 2, 0, 6, 6, 4, 4, 1, 5, 3, 5, 3, 3, 5, 5], dtype=int32)"
      ]
     },
     "execution_count": 118,
     "metadata": {},
     "output_type": "execute_result"
    }
   ],
   "source": [
    "kmeans.fit_predict(word2vec)"
   ]
  },
  {
   "cell_type": "code",
   "execution_count": 119,
   "metadata": {},
   "outputs": [
    {
     "data": {
      "text/plain": [
       "array([6, 7, 7, 1, 6, 3, 1, 6, 3, 3, 4, 5, 5, 4, 5, 5, 3, 5, 4, 5, 6, 7,\n",
       "       5, 0, 2, 0, 2, 0, 0, 3, 2, 4, 2, 3, 2, 2, 2, 2, 2], dtype=int32)"
      ]
     },
     "execution_count": 119,
     "metadata": {},
     "output_type": "execute_result"
    }
   ],
   "source": [
    "kmeans.fit_predict(edit1)"
   ]
  },
  {
   "cell_type": "code",
   "execution_count": 128,
   "metadata": {},
   "outputs": [],
   "source": [
    "clusters = labeled_word2vec_data['manual_label'].unique()"
   ]
  },
  {
   "cell_type": "code",
   "execution_count": 129,
   "metadata": {},
   "outputs": [
    {
     "data": {
      "text/plain": [
       "8"
      ]
     },
     "execution_count": 129,
     "metadata": {},
     "output_type": "execute_result"
    }
   ],
   "source": [
    "len(clusters)"
   ]
  },
  {
   "cell_type": "code",
   "execution_count": 133,
   "metadata": {},
   "outputs": [],
   "source": [
    "from sklearn.metrics import adjusted_rand_score"
   ]
  },
  {
   "cell_type": "code",
   "execution_count": 263,
   "metadata": {},
   "outputs": [],
   "source": [
    "method = edit1\n",
    "X = method\n",
    "question_ids = X.index"
   ]
  },
  {
   "cell_type": "code",
   "execution_count": 177,
   "metadata": {},
   "outputs": [],
   "source": [
    "labeled_slova_po_b = labeled_slova_po_b.set_index('question_id')"
   ]
  },
  {
   "cell_type": "code",
   "execution_count": 279,
   "metadata": {},
   "outputs": [],
   "source": [
    "ground_truth = np.array([labeled_slova_po_b.at[question_id, 'manual_label'][0] for question_id in question_ids])"
   ]
  },
  {
   "cell_type": "code",
   "execution_count": 280,
   "metadata": {},
   "outputs": [],
   "source": [
    "cluster_labels = kmeans.fit_predict(edit1)"
   ]
  },
  {
   "cell_type": "code",
   "execution_count": 281,
   "metadata": {},
   "outputs": [
    {
     "data": {
      "text/plain": [
       "0.7715192879821996"
      ]
     },
     "execution_count": 281,
     "metadata": {},
     "output_type": "execute_result"
    }
   ],
   "source": [
    "adjusted_rand_score(ground_truth, cluster_labels)"
   ]
  },
  {
   "cell_type": "code",
   "execution_count": 313,
   "metadata": {},
   "outputs": [
    {
     "name": "stdout",
     "output_type": "stream",
     "text": [
      "pearson\n",
      "doublepearson\n",
      "edit_distance\n",
      "word2vec\n"
     ]
    }
   ],
   "source": [
    "similarities = [('pearson', pearson2), ('doublepearson', pearson1), ('edit_distance', edit1), ('word2vec', word2vec)]\n",
    "adj_randindex = []\n",
    "for similarity_name, X in similarities:\n",
    "    print(similarity_name)\n",
    "    ground_truth = np.array([labeled_slova_po_b.at[question_id, 'manual_label'][0] for question_id in X.index])\n",
    "    cluster_labels = kmeans.fit_predict(X)\n",
    "    adj_randindex.append(adjusted_rand_score(ground_truth, cluster_labels))"
   ]
  },
  {
   "cell_type": "code",
   "execution_count": 314,
   "metadata": {},
   "outputs": [
    {
     "data": {
      "text/plain": [
       "[0.3852340904922843,\n",
       " 0.44016604273308374,\n",
       " 0.707605800532702,\n",
       " 0.47344961240310074]"
      ]
     },
     "execution_count": 314,
     "metadata": {},
     "output_type": "execute_result"
    }
   ],
   "source": [
    "adj_randindex"
   ]
  },
  {
   "cell_type": "code",
   "execution_count": 315,
   "metadata": {},
   "outputs": [],
   "source": [
    "similarities = [name for name, _ in similarities]\n",
    "data = {'similarity': similarities, 'randindex': adj_randindex}\n",
    "df = pd.DataFrame(data)"
   ]
  },
  {
   "cell_type": "code",
   "execution_count": 316,
   "metadata": {},
   "outputs": [
    {
     "data": {
      "text/html": [
       "<div>\n",
       "<style scoped>\n",
       "    .dataframe tbody tr th:only-of-type {\n",
       "        vertical-align: middle;\n",
       "    }\n",
       "\n",
       "    .dataframe tbody tr th {\n",
       "        vertical-align: top;\n",
       "    }\n",
       "\n",
       "    .dataframe thead th {\n",
       "        text-align: right;\n",
       "    }\n",
       "</style>\n",
       "<table border=\"1\" class=\"dataframe\">\n",
       "  <thead>\n",
       "    <tr style=\"text-align: right;\">\n",
       "      <th></th>\n",
       "      <th>randindex</th>\n",
       "      <th>similarity</th>\n",
       "    </tr>\n",
       "  </thead>\n",
       "  <tbody>\n",
       "    <tr>\n",
       "      <th>0</th>\n",
       "      <td>0.385234</td>\n",
       "      <td>pearson</td>\n",
       "    </tr>\n",
       "    <tr>\n",
       "      <th>1</th>\n",
       "      <td>0.440166</td>\n",
       "      <td>doublepearson</td>\n",
       "    </tr>\n",
       "    <tr>\n",
       "      <th>2</th>\n",
       "      <td>0.707606</td>\n",
       "      <td>edit_distance</td>\n",
       "    </tr>\n",
       "    <tr>\n",
       "      <th>3</th>\n",
       "      <td>0.473450</td>\n",
       "      <td>word2vec</td>\n",
       "    </tr>\n",
       "  </tbody>\n",
       "</table>\n",
       "</div>"
      ],
      "text/plain": [
       "   randindex     similarity\n",
       "0   0.385234        pearson\n",
       "1   0.440166  doublepearson\n",
       "2   0.707606  edit_distance\n",
       "3   0.473450       word2vec"
      ]
     },
     "execution_count": 316,
     "metadata": {},
     "output_type": "execute_result"
    }
   ],
   "source": [
    "df"
   ]
  },
  {
   "cell_type": "code",
   "execution_count": 340,
   "metadata": {},
   "outputs": [],
   "source": [
    "%matplotlib inline"
   ]
  },
  {
   "cell_type": "code",
   "execution_count": 341,
   "metadata": {},
   "outputs": [
    {
     "data": {
      "text/plain": [
       "<matplotlib.axes._subplots.AxesSubplot at 0x7f5cfc4d5780>"
      ]
     },
     "execution_count": 341,
     "metadata": {},
     "output_type": "execute_result"
    },
    {
     "data": {
      "image/png": "[encoded data removed]",
      "text/plain": [
       "<matplotlib.figure.Figure at 0x7f5d0332b128>"
      ]
     },
     "metadata": {},
     "output_type": "display_data"
    }
   ],
   "source": [
    "# df.plot(kind='bar', x='similarity', figsize=(8,5))\n",
    "import seaborn as sns\n",
    "sns.barplot(data=df, x='similarity', y='randindex')"
   ]
  }
 ],
 "metadata": {
  "kernelspec": {
   "display_name": "Python 3",
   "language": "python",
   "name": "python3"
  },
  "language_info": {
   "codemirror_mode": {
    "name": "ipython",
    "version": 3
   },
   "file_extension": ".py",
   "mimetype": "text/x-python",
   "name": "python",
   "nbconvert_exporter": "python",
   "pygments_lexer": "ipython3",
   "version": "3.5.2"
  }
 },
 "nbformat": 4,
 "nbformat_minor": 2
}
