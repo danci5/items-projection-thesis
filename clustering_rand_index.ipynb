{
 "cells": [
  {
   "cell_type": "code",
   "execution_count": 130,
   "metadata": {},
   "outputs": [],
   "source": [
    "from sklearn.cluster import KMeans\n",
    "from gensim.models import Word2Vec\n",
    "from data.prepare_data import *\n",
    "from data.prepare_word2vec_ed import *\n",
    "from manual_labeling.labeled_data import SLOVA_PO_B, KONCOVKY_PRID_JMEN\n",
    "from similarities.text_similarities import levenshtein_similarity, levenshtein_similarity_with_threshold\n",
    "import matplotlib.pyplot as plt"
   ]
  },
  {
   "cell_type": "code",
   "execution_count": 131,
   "metadata": {},
   "outputs": [],
   "source": [
    "model = Word2Vec.load('utils/word2vec.model')"
   ]
  },
  {
   "cell_type": "code",
   "execution_count": 132,
   "metadata": {},
   "outputs": [],
   "source": [
    "ps_data = get_ps_data()\n",
    "slovab = {'name':'vyjmenovane_slova_b', 'data': get_vyjmenovana_slova_po_b(ps_data), 'labels': SLOVA_PO_B}\n",
    "koncprid = {'name':'koncovky_prid_jmena', 'data': get_data_by_knowledge_component(ps_data, 36), 'labels': KONCOVKY_PRID_JMEN}\n",
    "datasets = [slovab, koncprid]"
   ]
  },
  {
   "cell_type": "code",
   "execution_count": 178,
   "metadata": {},
   "outputs": [],
   "source": [
    "dataset = datasets[0]"
   ]
  },
  {
   "cell_type": "code",
   "execution_count": 179,
   "metadata": {},
   "outputs": [],
   "source": [
    "# ..to_csv('data/processed/vyjmenovana_slova_po_b.csv', index=False)\n",
    "\n",
    "# words which are also in my word2vec model and are labeled\n",
    "_, word2vec_data = get_word2vec_items(model, dataset['data'])\n",
    "label_data(word2vec_data, dataset['labels'])\n",
    "# some questions with same text are labeled in more question_ids\n",
    "word2vec_data.sort_values(['question_id'], inplace=True)\n",
    "word2vec_data.drop_duplicates(['question'], inplace=True)\n",
    "\n",
    "labeled_word2vec_data = word2vec_data[word2vec_data['manual_label'] != 0]"
   ]
  },
  {
   "cell_type": "markdown",
   "metadata": {},
   "source": [
    "# Adjrandindex results - the similarity (based on pearson) is computed only from labeled answers"
   ]
  },
  {
   "cell_type": "code",
   "execution_count": 180,
   "metadata": {},
   "outputs": [],
   "source": [
    "# all answers which are labeled\n",
    "dataset['data']['full_solution'] = get_solutions(dataset['data'], 'full')\n",
    "label_data(dataset['data'], dataset['labels'])\n",
    "labeled_data = dataset['data'][dataset['data']['manual_label'] != 0]\n",
    "\n",
    "# all answers which are also in my word2vec model and are labeled\n",
    "labeled_data = labeled_data.loc[labeled_data['question_id'].isin(labeled_word2vec_data['question_id'])]"
   ]
  },
  {
   "cell_type": "code",
   "execution_count": 181,
   "metadata": {},
   "outputs": [],
   "source": [
    "# same assignment has two ids in the dataset => replace the id\n",
    "# labeled_slova_po_b[labeled_slova_po_b['question'] == 'b_otop'].question_id.unique()\n",
    "# -> array([6387,  237])\n",
    "# labeled_slova_po_b.loc[labeled_slova_po_b['question_id'] == 237] = 6387"
   ]
  },
  {
   "cell_type": "code",
   "execution_count": 182,
   "metadata": {},
   "outputs": [],
   "source": [
    "### ED ###\n",
    "editdistance = create_edit_similarity_matrix(labeled_word2vec_data['question_id'], labeled_word2vec_data['solution'], levenshtein_similarity)\n",
    "editdistance = editdistance.astype(float)\n",
    "\n",
    "### word2vec ###\n",
    "word2vec = create_word2vec_similarity_matrix(model, labeled_word2vec_data['question_id'], labeled_word2vec_data['solution'])"
   ]
  },
  {
   "cell_type": "code",
   "execution_count": 183,
   "metadata": {},
   "outputs": [],
   "source": [
    "### Pearson ###\n",
    "\n",
    "# count similarity based on whole dataset (all answers)\n",
    "correctness_matrix = reshape_to_correctness_matrix(dataset['data'])\n",
    "pearson1 = correctness_matrix_to_similarity_matrix('doublepearson', correctness_matrix)\n",
    "pearson2 = correctness_matrix_to_similarity_matrix('pearson', correctness_matrix)\n",
    "\n",
    "# all answers which are labeled and in word2vec model\n",
    "labeled = pearson2.columns.isin(labeled_word2vec_data['question_id'].unique())\n",
    "pearson2 = pearson2.loc[labeled, labeled]\n",
    "from similarities.performance_similarities import drop_nans\n",
    "pearson2 = drop_nans(pearson2)\n",
    "\n",
    "# same questions in all models - pearson could have NaN values which are not ok for clustering and had to be dropped\n",
    "pearson1_from_pearson = pearson1.columns.isin(pearson2.columns)\n",
    "editdistance_from_pearson = editdistance.columns.isin(pearson2.columns)\n",
    "word2vec_from_pearson = word2vec.columns.isin(pearson2.columns)\n",
    "pearson1 = pearson1.loc[pearson1_from_pearson, pearson1_from_pearson]\n",
    "editdistance = editdistance.loc[editdistance_from_pearson, editdistance_from_pearson]\n",
    "word2vec = word2vec.loc[word2vec_from_pearson, word2vec_from_pearson]"
   ]
  },
  {
   "cell_type": "code",
   "execution_count": 184,
   "metadata": {},
   "outputs": [],
   "source": [
    "def create_edit_similarity_matrix_with_threshold(index, solutions, similarity_function, M=4):\n",
    "    dataframe = pd.DataFrame(index=index,columns=index)\n",
    "    for i, j in zip(solutions, index):\n",
    "        for k, l in zip(solutions, index):\n",
    "                dataframe.loc[j, l] = similarity_function(i, k, M)\n",
    "    return dataframe"
   ]
  },
  {
   "cell_type": "code",
   "execution_count": 185,
   "metadata": {},
   "outputs": [],
   "source": [
    "editdistance_m_3 = create_edit_similarity_matrix_with_threshold(labeled_word2vec_data['question_id'], labeled_word2vec_data['solution'], levenshtein_similarity_with_threshold, 3)"
   ]
  },
  {
   "cell_type": "code",
   "execution_count": 186,
   "metadata": {},
   "outputs": [],
   "source": [
    "editdistance_m_4 = create_edit_similarity_matrix_with_threshold(labeled_word2vec_data['question_id'], labeled_word2vec_data['solution'], levenshtein_similarity_with_threshold, 4)"
   ]
  },
  {
   "cell_type": "code",
   "execution_count": 187,
   "metadata": {},
   "outputs": [],
   "source": [
    "editdistance_m_5 = create_edit_similarity_matrix_with_threshold(labeled_word2vec_data['question_id'], labeled_word2vec_data['solution'], levenshtein_similarity_with_threshold, M=5)"
   ]
  },
  {
   "cell_type": "code",
   "execution_count": 188,
   "metadata": {},
   "outputs": [],
   "source": [
    "editdistance_m_6 = create_edit_similarity_matrix_with_threshold(labeled_word2vec_data['question_id'], labeled_word2vec_data['solution'], levenshtein_similarity_with_threshold, M=6)"
   ]
  },
  {
   "cell_type": "code",
   "execution_count": 189,
   "metadata": {},
   "outputs": [],
   "source": [
    "editdistance_m_7 = create_edit_similarity_matrix_with_threshold(labeled_word2vec_data['question_id'], labeled_word2vec_data['solution'], levenshtein_similarity_with_threshold, M=7)"
   ]
  },
  {
   "cell_type": "code",
   "execution_count": 190,
   "metadata": {},
   "outputs": [],
   "source": [
    "editdistance_m_8 = create_edit_similarity_matrix_with_threshold(labeled_word2vec_data['question_id'], labeled_word2vec_data['solution'], levenshtein_similarity_with_threshold, M=8)"
   ]
  },
  {
   "cell_type": "code",
   "execution_count": 191,
   "metadata": {},
   "outputs": [],
   "source": [
    "from sklearn.cluster import AgglomerativeClustering\n",
    "clustering = AgglomerativeClustering(n_clusters=len(dataset['labels']), affinity='precomputed', linkage='complete')"
   ]
  },
  {
   "cell_type": "code",
   "execution_count": 211,
   "metadata": {},
   "outputs": [],
   "source": [
    "from sklearn.cluster import AgglomerativeClustering\n",
    "clustering = AgglomerativeClustering(n_clusters=len(dataset['labels']), affinity='euclidean', linkage='ward')"
   ]
  },
  {
   "cell_type": "code",
   "execution_count": 212,
   "metadata": {},
   "outputs": [],
   "source": [
    "pearson1 = 1 - pearson1\n",
    "pearson2 = 1 - pearson2\n",
    "editdistance = 1 - editdistance\n",
    "word2vec = 1 - word2vec\n",
    "editdistance_m_3 = 1 - editdistance_m_3\n",
    "editdistance_m_4 = 1 - editdistance_m_4\n",
    "editdistance_m_5 = 1 - editdistance_m_5\n",
    "editdistance_m_6 = 1 - editdistance_m_6\n",
    "editdistance_m_7 = 1 - editdistance_m_7\n",
    "editdistance_m_8 = 1 - editdistance_m_8"
   ]
  },
  {
   "cell_type": "code",
   "execution_count": 213,
   "metadata": {},
   "outputs": [
    {
     "data": {
      "text/html": [
       "<div>\n",
       "<style scoped>\n",
       "    .dataframe tbody tr th:only-of-type {\n",
       "        vertical-align: middle;\n",
       "    }\n",
       "\n",
       "    .dataframe tbody tr th {\n",
       "        vertical-align: top;\n",
       "    }\n",
       "\n",
       "    .dataframe thead th {\n",
       "        text-align: right;\n",
       "    }\n",
       "</style>\n",
       "<table border=\"1\" class=\"dataframe\">\n",
       "  <thead>\n",
       "    <tr style=\"text-align: right;\">\n",
       "      <th>question_id</th>\n",
       "      <th>25</th>\n",
       "      <th>26</th>\n",
       "      <th>27</th>\n",
       "      <th>28</th>\n",
       "      <th>29</th>\n",
       "      <th>30</th>\n",
       "      <th>42</th>\n",
       "      <th>43</th>\n",
       "      <th>44</th>\n",
       "      <th>63</th>\n",
       "      <th>...</th>\n",
       "      <th>2264</th>\n",
       "      <th>2278</th>\n",
       "      <th>6346</th>\n",
       "      <th>6353</th>\n",
       "      <th>6354</th>\n",
       "      <th>6364</th>\n",
       "      <th>6375</th>\n",
       "      <th>6376</th>\n",
       "      <th>6385</th>\n",
       "      <th>6386</th>\n",
       "    </tr>\n",
       "    <tr>\n",
       "      <th>question_id</th>\n",
       "      <th></th>\n",
       "      <th></th>\n",
       "      <th></th>\n",
       "      <th></th>\n",
       "      <th></th>\n",
       "      <th></th>\n",
       "      <th></th>\n",
       "      <th></th>\n",
       "      <th></th>\n",
       "      <th></th>\n",
       "      <th></th>\n",
       "      <th></th>\n",
       "      <th></th>\n",
       "      <th></th>\n",
       "      <th></th>\n",
       "      <th></th>\n",
       "      <th></th>\n",
       "      <th></th>\n",
       "      <th></th>\n",
       "      <th></th>\n",
       "      <th></th>\n",
       "    </tr>\n",
       "  </thead>\n",
       "  <tbody>\n",
       "    <tr>\n",
       "      <th>25</th>\n",
       "      <td>1.000000</td>\n",
       "      <td>0.370401</td>\n",
       "      <td>0.225158</td>\n",
       "      <td>0.229112</td>\n",
       "      <td>0.338657</td>\n",
       "      <td>0.111969</td>\n",
       "      <td>0.032979</td>\n",
       "      <td>-0.108764</td>\n",
       "      <td>0.162846</td>\n",
       "      <td>0.100863</td>\n",
       "      <td>...</td>\n",
       "      <td>0.051040</td>\n",
       "      <td>0.109187</td>\n",
       "      <td>0.056369</td>\n",
       "      <td>0.198789</td>\n",
       "      <td>0.177169</td>\n",
       "      <td>0.247831</td>\n",
       "      <td>0.033441</td>\n",
       "      <td>-0.023404</td>\n",
       "      <td>0.112483</td>\n",
       "      <td>0.064437</td>\n",
       "    </tr>\n",
       "    <tr>\n",
       "      <th>26</th>\n",
       "      <td>0.370401</td>\n",
       "      <td>1.000000</td>\n",
       "      <td>0.261922</td>\n",
       "      <td>0.409719</td>\n",
       "      <td>0.170644</td>\n",
       "      <td>0.038056</td>\n",
       "      <td>0.078058</td>\n",
       "      <td>0.009353</td>\n",
       "      <td>0.121460</td>\n",
       "      <td>0.116930</td>\n",
       "      <td>...</td>\n",
       "      <td>0.068478</td>\n",
       "      <td>0.087490</td>\n",
       "      <td>-0.010383</td>\n",
       "      <td>0.196936</td>\n",
       "      <td>0.099162</td>\n",
       "      <td>0.078716</td>\n",
       "      <td>-0.054231</td>\n",
       "      <td>0.044838</td>\n",
       "      <td>0.037215</td>\n",
       "      <td>0.045148</td>\n",
       "    </tr>\n",
       "    <tr>\n",
       "      <th>27</th>\n",
       "      <td>0.225158</td>\n",
       "      <td>0.261922</td>\n",
       "      <td>1.000000</td>\n",
       "      <td>0.161713</td>\n",
       "      <td>0.120460</td>\n",
       "      <td>0.067447</td>\n",
       "      <td>0.075658</td>\n",
       "      <td>0.078254</td>\n",
       "      <td>0.095227</td>\n",
       "      <td>-0.098669</td>\n",
       "      <td>...</td>\n",
       "      <td>0.053767</td>\n",
       "      <td>0.135846</td>\n",
       "      <td>0.090857</td>\n",
       "      <td>0.082554</td>\n",
       "      <td>0.108285</td>\n",
       "      <td>-0.064198</td>\n",
       "      <td>0.063869</td>\n",
       "      <td>-0.111820</td>\n",
       "      <td>-0.003962</td>\n",
       "      <td>-0.035738</td>\n",
       "    </tr>\n",
       "    <tr>\n",
       "      <th>28</th>\n",
       "      <td>0.229112</td>\n",
       "      <td>0.409719</td>\n",
       "      <td>0.161713</td>\n",
       "      <td>1.000000</td>\n",
       "      <td>0.329504</td>\n",
       "      <td>0.203005</td>\n",
       "      <td>0.112649</td>\n",
       "      <td>-0.103928</td>\n",
       "      <td>0.123751</td>\n",
       "      <td>0.091816</td>\n",
       "      <td>...</td>\n",
       "      <td>0.065516</td>\n",
       "      <td>0.110350</td>\n",
       "      <td>0.127348</td>\n",
       "      <td>0.197418</td>\n",
       "      <td>0.128749</td>\n",
       "      <td>0.151020</td>\n",
       "      <td>0.062698</td>\n",
       "      <td>0.105436</td>\n",
       "      <td>0.212551</td>\n",
       "      <td>0.108274</td>\n",
       "    </tr>\n",
       "    <tr>\n",
       "      <th>29</th>\n",
       "      <td>0.338657</td>\n",
       "      <td>0.170644</td>\n",
       "      <td>0.120460</td>\n",
       "      <td>0.329504</td>\n",
       "      <td>1.000000</td>\n",
       "      <td>0.256852</td>\n",
       "      <td>0.029034</td>\n",
       "      <td>-0.126503</td>\n",
       "      <td>0.096928</td>\n",
       "      <td>0.026058</td>\n",
       "      <td>...</td>\n",
       "      <td>0.001475</td>\n",
       "      <td>0.035421</td>\n",
       "      <td>0.119717</td>\n",
       "      <td>0.217074</td>\n",
       "      <td>0.118614</td>\n",
       "      <td>-0.042547</td>\n",
       "      <td>-0.010592</td>\n",
       "      <td>-0.045658</td>\n",
       "      <td>-0.017599</td>\n",
       "      <td>-0.054798</td>\n",
       "    </tr>\n",
       "  </tbody>\n",
       "</table>\n",
       "<p>5 rows × 39 columns</p>\n",
       "</div>"
      ],
      "text/plain": [
       "question_id      25        26        27        28        29        30    \\\n",
       "question_id                                                               \n",
       "25           1.000000  0.370401  0.225158  0.229112  0.338657  0.111969   \n",
       "26           0.370401  1.000000  0.261922  0.409719  0.170644  0.038056   \n",
       "27           0.225158  0.261922  1.000000  0.161713  0.120460  0.067447   \n",
       "28           0.229112  0.409719  0.161713  1.000000  0.329504  0.203005   \n",
       "29           0.338657  0.170644  0.120460  0.329504  1.000000  0.256852   \n",
       "\n",
       "question_id      42        43        44        63      ...         2264  \\\n",
       "question_id                                            ...                \n",
       "25           0.032979 -0.108764  0.162846  0.100863    ...     0.051040   \n",
       "26           0.078058  0.009353  0.121460  0.116930    ...     0.068478   \n",
       "27           0.075658  0.078254  0.095227 -0.098669    ...     0.053767   \n",
       "28           0.112649 -0.103928  0.123751  0.091816    ...     0.065516   \n",
       "29           0.029034 -0.126503  0.096928  0.026058    ...     0.001475   \n",
       "\n",
       "question_id      2278      6346      6353      6354      6364      6375  \\\n",
       "question_id                                                               \n",
       "25           0.109187  0.056369  0.198789  0.177169  0.247831  0.033441   \n",
       "26           0.087490 -0.010383  0.196936  0.099162  0.078716 -0.054231   \n",
       "27           0.135846  0.090857  0.082554  0.108285 -0.064198  0.063869   \n",
       "28           0.110350  0.127348  0.197418  0.128749  0.151020  0.062698   \n",
       "29           0.035421  0.119717  0.217074  0.118614 -0.042547 -0.010592   \n",
       "\n",
       "question_id      6376      6385      6386  \n",
       "question_id                                \n",
       "25          -0.023404  0.112483  0.064437  \n",
       "26           0.044838  0.037215  0.045148  \n",
       "27          -0.111820 -0.003962 -0.035738  \n",
       "28           0.105436  0.212551  0.108274  \n",
       "29          -0.045658 -0.017599 -0.054798  \n",
       "\n",
       "[5 rows x 39 columns]"
      ]
     },
     "execution_count": 213,
     "metadata": {},
     "output_type": "execute_result"
    }
   ],
   "source": [
    "pearson1.head()"
   ]
  },
  {
   "cell_type": "code",
   "execution_count": 194,
   "metadata": {},
   "outputs": [
    {
     "data": {
      "text/plain": [
       "array([2, 2, 2, 2, 2, 3, 0, 1, 6, 6, 2, 2, 1, 2, 5, 3, 5, 5, 7, 7, 0, 4,\n",
       "       3, 4, 4, 4, 4, 1, 6, 6, 4, 0, 2, 2, 4, 1, 6, 6, 4])"
      ]
     },
     "execution_count": 194,
     "metadata": {},
     "output_type": "execute_result"
    }
   ],
   "source": [
    "# kmeans.fit_transform(pearson1)\n",
    "clustering.fit_predict(pearson1)"
   ]
  },
  {
   "cell_type": "code",
   "execution_count": 195,
   "metadata": {},
   "outputs": [
    {
     "data": {
      "text/plain": [
       "array([0, 0, 1, 0, 0, 0, 4, 6, 3, 3, 0, 2, 2, 0, 7, 1, 7, 7, 1, 1, 4, 5,\n",
       "       1, 5, 5, 6, 5, 6, 7, 3, 1, 4, 2, 0, 7, 6, 3, 3, 5])"
      ]
     },
     "execution_count": 195,
     "metadata": {},
     "output_type": "execute_result"
    }
   ],
   "source": [
    "clustering.fit_predict(pearson2)"
   ]
  },
  {
   "cell_type": "code",
   "execution_count": 196,
   "metadata": {},
   "outputs": [
    {
     "data": {
      "text/plain": [
       "array([1, 4, 4, 1, 1, 4, 1, 1, 4, 7, 2, 0, 6, 0, 0, 6, 6, 3, 6, 6, 5, 3,\n",
       "       3, 3, 3, 0, 0, 2, 2, 1, 5, 0, 0, 6, 7, 1, 4, 5, 0])"
      ]
     },
     "execution_count": 196,
     "metadata": {},
     "output_type": "execute_result"
    }
   ],
   "source": [
    "clustering.fit_predict(word2vec)"
   ]
  },
  {
   "cell_type": "code",
   "execution_count": 197,
   "metadata": {},
   "outputs": [
    {
     "data": {
      "text/plain": [
       "array([4, 4, 4, 4, 5, 5, 2, 3, 2, 2, 2, 1, 1, 1, 7, 7, 7, 7, 3, 3, 6, 0,\n",
       "       0, 0, 6, 0, 0, 3, 3, 2, 6, 7, 1, 1, 2, 3, 2, 0, 0])"
      ]
     },
     "execution_count": 197,
     "metadata": {},
     "output_type": "execute_result"
    }
   ],
   "source": [
    "clustering.fit_predict(editdistance)"
   ]
  },
  {
   "cell_type": "code",
   "execution_count": 198,
   "metadata": {},
   "outputs": [],
   "source": [
    "clusters = labeled_word2vec_data['manual_label'].unique()"
   ]
  },
  {
   "cell_type": "code",
   "execution_count": 199,
   "metadata": {},
   "outputs": [
    {
     "data": {
      "text/plain": [
       "8"
      ]
     },
     "execution_count": 199,
     "metadata": {},
     "output_type": "execute_result"
    }
   ],
   "source": [
    "len(clusters)"
   ]
  },
  {
   "cell_type": "code",
   "execution_count": 200,
   "metadata": {},
   "outputs": [],
   "source": [
    "from sklearn.metrics import adjusted_rand_score"
   ]
  },
  {
   "cell_type": "code",
   "execution_count": 201,
   "metadata": {},
   "outputs": [],
   "source": [
    "method = editdistance\n",
    "X = method\n",
    "question_ids = X.index"
   ]
  },
  {
   "cell_type": "code",
   "execution_count": 202,
   "metadata": {},
   "outputs": [],
   "source": [
    "labeled_data = labeled_data.set_index('question_id')"
   ]
  },
  {
   "cell_type": "code",
   "execution_count": 203,
   "metadata": {},
   "outputs": [],
   "source": [
    "ground_truth = np.array([labeled_data.at[question_id, 'manual_label'][0] for question_id in question_ids])"
   ]
  },
  {
   "cell_type": "code",
   "execution_count": 204,
   "metadata": {},
   "outputs": [],
   "source": [
    "cluster_labels = clustering.fit_predict(editdistance)"
   ]
  },
  {
   "cell_type": "code",
   "execution_count": 205,
   "metadata": {},
   "outputs": [
    {
     "data": {
      "text/plain": [
       "0.6696944465470693"
      ]
     },
     "execution_count": 205,
     "metadata": {},
     "output_type": "execute_result"
    }
   ],
   "source": [
    "adjusted_rand_score(ground_truth, cluster_labels)"
   ]
  },
  {
   "cell_type": "code",
   "execution_count": null,
   "metadata": {},
   "outputs": [],
   "source": []
  },
  {
   "cell_type": "code",
   "execution_count": 214,
   "metadata": {},
   "outputs": [
    {
     "name": "stdout",
     "output_type": "stream",
     "text": [
      "pearson\n",
      "dpearson\n",
      "word2vec\n",
      "defaultED\n",
      "ED with M=3\n",
      "ED with M=4\n",
      "ED with M=5\n",
      "ED with M=6\n",
      "ED with M=7\n",
      "ED with M=8\n"
     ]
    }
   ],
   "source": [
    "similarities = [('pearson', pearson2), ('dpearson', pearson1), ('word2vec', word2vec), ('defaultED', editdistance), ('ED with M=3', editdistance_m_3), ('ED with M=4', editdistance_m_4), ('ED with M=5', editdistance_m_5), ('ED with M=6', editdistance_m_6), ('ED with M=7', editdistance_m_7), ('ED with M=8', editdistance_m_8)]\n",
    "adj_randindex = []\n",
    "for similarity_name, X in similarities:\n",
    "    print(similarity_name)\n",
    "    ground_truth = np.array([labeled_data.at[question_id, 'manual_label'][0] for question_id in X.index])\n",
    "    cluster_labels = clustering.fit_predict(X)\n",
    "    adj_randindex.append(round(adjusted_rand_score(ground_truth, cluster_labels), 2))"
   ]
  },
  {
   "cell_type": "code",
   "execution_count": 215,
   "metadata": {},
   "outputs": [
    {
     "data": {
      "text/plain": [
       "AgglomerativeClustering(affinity='euclidean', compute_full_tree='auto',\n",
       "            connectivity=None, linkage='ward', memory=None, n_clusters=8,\n",
       "            pooling_func=<function mean at 0x7f02d02d4d90>)"
      ]
     },
     "execution_count": 215,
     "metadata": {},
     "output_type": "execute_result"
    }
   ],
   "source": [
    "clustering"
   ]
  },
  {
   "cell_type": "code",
   "execution_count": 175,
   "metadata": {},
   "outputs": [
    {
     "data": {
      "text/plain": [
       "[0.12, 0.13, 0.5, 0.49, 0.12, 0.14, 0.2, 0.32, 0.26, 0.36]"
      ]
     },
     "execution_count": 175,
     "metadata": {},
     "output_type": "execute_result"
    }
   ],
   "source": [
    "# euclid koncovky rounded\n",
    "adj_randindex"
   ]
  },
  {
   "cell_type": "code",
   "execution_count": 167,
   "metadata": {},
   "outputs": [
    {
     "data": {
      "text/plain": [
       "[0.05, 0.13, 0.34, 0.48, -0.02, -0.03, 0.01, 0.09, 0.3, 0.31]"
      ]
     },
     "execution_count": 167,
     "metadata": {},
     "output_type": "execute_result"
    }
   ],
   "source": [
    "# no euclid koncovky rounded\n",
    "adj_randindex"
   ]
  },
  {
   "cell_type": "code",
   "execution_count": 216,
   "metadata": {},
   "outputs": [
    {
     "data": {
      "text/plain": [
       "[0.34, 0.36, 0.38, 0.73, 0.21, 0.44, 0.52, 0.63, 0.64, 0.48]"
      ]
     },
     "execution_count": 216,
     "metadata": {},
     "output_type": "execute_result"
    }
   ],
   "source": [
    "# euclid vyjmenovana slova rounded\n",
    "adj_randindex"
   ]
  },
  {
   "cell_type": "code",
   "execution_count": 208,
   "metadata": {},
   "outputs": [
    {
     "data": {
      "text/plain": [
       "[0.29, 0.35, 0.25, 0.67, 0.11, 0.19, 0.23, 0.22, 0.38, 0.38]"
      ]
     },
     "execution_count": 208,
     "metadata": {},
     "output_type": "execute_result"
    }
   ],
   "source": [
    "# no euclid vyjmenovana slova rounded\n",
    "adj_randindex"
   ]
  },
  {
   "cell_type": "code",
   "execution_count": 217,
   "metadata": {},
   "outputs": [],
   "source": [
    "similarities = [name for name, _ in similarities]\n",
    "data = {'similarity': similarities, 'randindex': adj_randindex}\n",
    "df = pd.DataFrame(data)\n",
    "if dataset['name'] == 'vyjmenovane_slova_b':\n",
    "    datasets[0]['randindex'] = df\n",
    "else:\n",
    "    datasets[1]['randindex'] = df"
   ]
  },
  {
   "cell_type": "code",
   "execution_count": 218,
   "metadata": {},
   "outputs": [],
   "source": [
    "df.to_csv('randindex-vyjmenovanaslovab-clusteringeuclidean.csv')"
   ]
  },
  {
   "cell_type": "code",
   "execution_count": 34,
   "metadata": {},
   "outputs": [],
   "source": [
    "%matplotlib inline"
   ]
  },
  {
   "cell_type": "code",
   "execution_count": 73,
   "metadata": {},
   "outputs": [
    {
     "data": {
      "image/png": "[encoded data removed]",
      "text/plain": [
       "<matplotlib.figure.Figure at 0x7f6e350eb710>"
      ]
     },
     "metadata": {},
     "output_type": "display_data"
    }
   ],
   "source": [
    "# df.plot(kind='bar', x='similarity', figsize=(8,5))\n",
    "import seaborn as sns\n",
    "sns_plot = sns.barplot(data=df, x='similarity', y='randindex')\n",
    "fig = sns_plot.get_figure()\n",
    "fig.set_size_inches(20,5)\n",
    "sns_plot.set(ylim=(0, 1))\n",
    "sns_plot.set_xlabel('')\n",
    "sns_plot.set_ylabel('randindex', fontsize=14)\n",
    "sns_plot.tick_params(axis='both', which='major', labelsize=14)\n",
    "fig.savefig('visualizations/seaborn/clustering_randindex-edit_distance_thresholds-%s.svg' % dataset['name'])"
   ]
  },
  {
   "cell_type": "code",
   "execution_count": null,
   "metadata": {},
   "outputs": [],
   "source": []
  },
  {
   "cell_type": "code",
   "execution_count": null,
   "metadata": {},
   "outputs": [],
   "source": []
  },
  {
   "cell_type": "markdown",
   "metadata": {},
   "source": [
    "## Visualizing both barplots of two knowledge components in one figure"
   ]
  },
  {
   "cell_type": "code",
   "execution_count": 74,
   "metadata": {},
   "outputs": [],
   "source": [
    "colors = ['blue','lightish blue','green','red']\n",
    "colors.extend(['lightish red']*6)"
   ]
  },
  {
   "cell_type": "code",
   "execution_count": 75,
   "metadata": {},
   "outputs": [
    {
     "data": {
      "image/png": "[encoded data removed]",
      "text/plain": [
       "<matplotlib.figure.Figure at 0x7f6e35ab2ba8>"
      ]
     },
     "metadata": {},
     "output_type": "display_data"
    }
   ],
   "source": [
    "#https://xkcd.com/color/rgb/\n",
    "sns.palplot(sns.xkcd_palette(colors))\n"
   ]
  },
  {
   "cell_type": "code",
   "execution_count": 76,
   "metadata": {},
   "outputs": [],
   "source": [
    "colors = sns.xkcd_palette(colors)"
   ]
  },
  {
   "cell_type": "code",
   "execution_count": 77,
   "metadata": {},
   "outputs": [
    {
     "data": {
      "image/png": "[encoded data removed]",
      "text/plain": [
       "<matplotlib.figure.Figure at 0x7f6e3594fcf8>"
      ]
     },
     "metadata": {},
     "output_type": "display_data"
    }
   ],
   "source": [
    "figure, (ax1,ax2) = plt.subplots(2,1)\n",
    "figure.set_size_inches(20,12)\n",
    "# colors = ['blue','orange','green','red']\n",
    "# colors.extend(['indianred']*5)\n",
    "\n",
    "a1 = sns.barplot(data=datasets[0]['randindex'], ax=ax1, x='similarity', y='randindex', palette=colors)\n",
    "a1.set(ylim=(0, 1))\n",
    "a1.set_xlabel('')\n",
    "a1.set_ylabel('randindex', fontsize=18)\n",
    "a1.tick_params(axis='both', which='major', labelsize=16)\n",
    "a1.set_title('Vyjmenovaná slova B', fontsize=22, fontstyle='italic')\n",
    "\n",
    "a2 = sns.barplot(data=datasets[1]['randindex'], ax=ax2, x='similarity', y='randindex', palette=colors)\n",
    "a2.set(ylim=(0, 1))\n",
    "a2.set_xlabel('')\n",
    "a2.set_ylabel('randindex', fontsize=18)\n",
    "a2.tick_params(axis='both', which='major', labelsize=16)\n",
    "a2.set_title('Koncovky přídavných jmen', fontsize=22, fontstyle='italic')\n",
    "plt.savefig('visualizations/seaborn/randindex-barplot.svg')\n",
    "plt.show()"
   ]
  },
  {
   "cell_type": "code",
   "execution_count": null,
   "metadata": {},
   "outputs": [],
   "source": []
  },
  {
   "cell_type": "code",
   "execution_count": null,
   "metadata": {},
   "outputs": [],
   "source": []
  },
  {
   "cell_type": "code",
   "execution_count": null,
   "metadata": {},
   "outputs": [],
   "source": []
  },
  {
   "cell_type": "markdown",
   "metadata": {},
   "source": [
    "# Visualizing only labeled data"
   ]
  },
  {
   "cell_type": "code",
   "execution_count": 69,
   "metadata": {},
   "outputs": [],
   "source": [
    "# dataset['data']['question_id'] = dataset['data'].index"
   ]
  },
  {
   "cell_type": "code",
   "execution_count": 92,
   "metadata": {},
   "outputs": [],
   "source": [
    "data = dataset['data'][dataset['data']['question_id'].isin(pearson2.index)].drop_duplicates(['question_id'])"
   ]
  },
  {
   "cell_type": "code",
   "execution_count": 93,
   "metadata": {},
   "outputs": [
    {
     "data": {
      "text/plain": [
       "66"
      ]
     },
     "execution_count": 93,
     "metadata": {},
     "output_type": "execute_result"
    }
   ],
   "source": [
    "len(data)"
   ]
  },
  {
   "cell_type": "code",
   "execution_count": 94,
   "metadata": {},
   "outputs": [],
   "source": [
    "data.reset_index(drop=True, inplace=True)"
   ]
  },
  {
   "cell_type": "code",
   "execution_count": 115,
   "metadata": {},
   "outputs": [],
   "source": [
    "pearson1 = 1 - pearson1"
   ]
  },
  {
   "cell_type": "code",
   "execution_count": 116,
   "metadata": {},
   "outputs": [
    {
     "data": {
      "text/html": [
       "<div>\n",
       "<style scoped>\n",
       "    .dataframe tbody tr th:only-of-type {\n",
       "        vertical-align: middle;\n",
       "    }\n",
       "\n",
       "    .dataframe tbody tr th {\n",
       "        vertical-align: top;\n",
       "    }\n",
       "\n",
       "    .dataframe thead th {\n",
       "        text-align: right;\n",
       "    }\n",
       "</style>\n",
       "<table border=\"1\" class=\"dataframe\">\n",
       "  <thead>\n",
       "    <tr style=\"text-align: right;\">\n",
       "      <th>question_id</th>\n",
       "      <th>1215</th>\n",
       "      <th>1217</th>\n",
       "      <th>1219</th>\n",
       "      <th>1220</th>\n",
       "      <th>1221</th>\n",
       "      <th>1222</th>\n",
       "      <th>1223</th>\n",
       "      <th>1224</th>\n",
       "      <th>1225</th>\n",
       "      <th>1226</th>\n",
       "      <th>...</th>\n",
       "      <th>4007</th>\n",
       "      <th>4008</th>\n",
       "      <th>6476</th>\n",
       "      <th>6483</th>\n",
       "      <th>6484</th>\n",
       "      <th>6486</th>\n",
       "      <th>6489</th>\n",
       "      <th>6491</th>\n",
       "      <th>6493</th>\n",
       "      <th>6494</th>\n",
       "    </tr>\n",
       "    <tr>\n",
       "      <th>question_id</th>\n",
       "      <th></th>\n",
       "      <th></th>\n",
       "      <th></th>\n",
       "      <th></th>\n",
       "      <th></th>\n",
       "      <th></th>\n",
       "      <th></th>\n",
       "      <th></th>\n",
       "      <th></th>\n",
       "      <th></th>\n",
       "      <th></th>\n",
       "      <th></th>\n",
       "      <th></th>\n",
       "      <th></th>\n",
       "      <th></th>\n",
       "      <th></th>\n",
       "      <th></th>\n",
       "      <th></th>\n",
       "      <th></th>\n",
       "      <th></th>\n",
       "      <th></th>\n",
       "    </tr>\n",
       "  </thead>\n",
       "  <tbody>\n",
       "    <tr>\n",
       "      <th>1215</th>\n",
       "      <td>1.000000</td>\n",
       "      <td>0.317177</td>\n",
       "      <td>0.212911</td>\n",
       "      <td>0.033091</td>\n",
       "      <td>0.194535</td>\n",
       "      <td>-0.120662</td>\n",
       "      <td>0.023714</td>\n",
       "      <td>0.116084</td>\n",
       "      <td>0.361917</td>\n",
       "      <td>0.421006</td>\n",
       "      <td>...</td>\n",
       "      <td>0.065526</td>\n",
       "      <td>-0.071449</td>\n",
       "      <td>-0.092310</td>\n",
       "      <td>-0.181333</td>\n",
       "      <td>-0.052356</td>\n",
       "      <td>-0.226046</td>\n",
       "      <td>0.092971</td>\n",
       "      <td>-0.184246</td>\n",
       "      <td>-0.185468</td>\n",
       "      <td>0.026411</td>\n",
       "    </tr>\n",
       "    <tr>\n",
       "      <th>1217</th>\n",
       "      <td>0.317177</td>\n",
       "      <td>1.000000</td>\n",
       "      <td>0.119037</td>\n",
       "      <td>-0.050037</td>\n",
       "      <td>0.237738</td>\n",
       "      <td>0.097352</td>\n",
       "      <td>0.339352</td>\n",
       "      <td>0.081469</td>\n",
       "      <td>0.227094</td>\n",
       "      <td>0.282984</td>\n",
       "      <td>...</td>\n",
       "      <td>-0.080251</td>\n",
       "      <td>0.404340</td>\n",
       "      <td>0.021521</td>\n",
       "      <td>-0.259206</td>\n",
       "      <td>0.084777</td>\n",
       "      <td>-0.263172</td>\n",
       "      <td>0.155636</td>\n",
       "      <td>0.180594</td>\n",
       "      <td>-0.240333</td>\n",
       "      <td>-0.055345</td>\n",
       "    </tr>\n",
       "    <tr>\n",
       "      <th>1219</th>\n",
       "      <td>0.212911</td>\n",
       "      <td>0.119037</td>\n",
       "      <td>1.000000</td>\n",
       "      <td>-0.035404</td>\n",
       "      <td>0.051396</td>\n",
       "      <td>-0.150460</td>\n",
       "      <td>0.033611</td>\n",
       "      <td>0.304485</td>\n",
       "      <td>0.348681</td>\n",
       "      <td>-0.083937</td>\n",
       "      <td>...</td>\n",
       "      <td>0.015296</td>\n",
       "      <td>0.105986</td>\n",
       "      <td>0.236833</td>\n",
       "      <td>-0.045532</td>\n",
       "      <td>-0.048855</td>\n",
       "      <td>-0.074927</td>\n",
       "      <td>0.007365</td>\n",
       "      <td>-0.107420</td>\n",
       "      <td>-0.177178</td>\n",
       "      <td>-0.156062</td>\n",
       "    </tr>\n",
       "    <tr>\n",
       "      <th>1220</th>\n",
       "      <td>0.033091</td>\n",
       "      <td>-0.050037</td>\n",
       "      <td>-0.035404</td>\n",
       "      <td>1.000000</td>\n",
       "      <td>-0.007982</td>\n",
       "      <td>-0.094089</td>\n",
       "      <td>0.034739</td>\n",
       "      <td>0.281443</td>\n",
       "      <td>0.291675</td>\n",
       "      <td>0.029845</td>\n",
       "      <td>...</td>\n",
       "      <td>-0.242773</td>\n",
       "      <td>0.052514</td>\n",
       "      <td>0.015863</td>\n",
       "      <td>-0.110445</td>\n",
       "      <td>-0.091851</td>\n",
       "      <td>-0.005122</td>\n",
       "      <td>-0.026190</td>\n",
       "      <td>-0.116793</td>\n",
       "      <td>0.093869</td>\n",
       "      <td>0.172138</td>\n",
       "    </tr>\n",
       "    <tr>\n",
       "      <th>1221</th>\n",
       "      <td>0.194535</td>\n",
       "      <td>0.237738</td>\n",
       "      <td>0.051396</td>\n",
       "      <td>-0.007982</td>\n",
       "      <td>1.000000</td>\n",
       "      <td>0.177479</td>\n",
       "      <td>0.110369</td>\n",
       "      <td>0.143760</td>\n",
       "      <td>0.181719</td>\n",
       "      <td>0.177058</td>\n",
       "      <td>...</td>\n",
       "      <td>-0.122907</td>\n",
       "      <td>0.063916</td>\n",
       "      <td>0.241344</td>\n",
       "      <td>-0.183550</td>\n",
       "      <td>0.097486</td>\n",
       "      <td>0.246338</td>\n",
       "      <td>0.408816</td>\n",
       "      <td>-0.020127</td>\n",
       "      <td>0.201594</td>\n",
       "      <td>0.188777</td>\n",
       "    </tr>\n",
       "  </tbody>\n",
       "</table>\n",
       "<p>5 rows × 66 columns</p>\n",
       "</div>"
      ],
      "text/plain": [
       "question_id      1215      1217      1219      1220      1221      1222  \\\n",
       "question_id                                                               \n",
       "1215         1.000000  0.317177  0.212911  0.033091  0.194535 -0.120662   \n",
       "1217         0.317177  1.000000  0.119037 -0.050037  0.237738  0.097352   \n",
       "1219         0.212911  0.119037  1.000000 -0.035404  0.051396 -0.150460   \n",
       "1220         0.033091 -0.050037 -0.035404  1.000000 -0.007982 -0.094089   \n",
       "1221         0.194535  0.237738  0.051396 -0.007982  1.000000  0.177479   \n",
       "\n",
       "question_id      1223      1224      1225      1226    ...         4007  \\\n",
       "question_id                                            ...                \n",
       "1215         0.023714  0.116084  0.361917  0.421006    ...     0.065526   \n",
       "1217         0.339352  0.081469  0.227094  0.282984    ...    -0.080251   \n",
       "1219         0.033611  0.304485  0.348681 -0.083937    ...     0.015296   \n",
       "1220         0.034739  0.281443  0.291675  0.029845    ...    -0.242773   \n",
       "1221         0.110369  0.143760  0.181719  0.177058    ...    -0.122907   \n",
       "\n",
       "question_id      4008      6476      6483      6484      6486      6489  \\\n",
       "question_id                                                               \n",
       "1215        -0.071449 -0.092310 -0.181333 -0.052356 -0.226046  0.092971   \n",
       "1217         0.404340  0.021521 -0.259206  0.084777 -0.263172  0.155636   \n",
       "1219         0.105986  0.236833 -0.045532 -0.048855 -0.074927  0.007365   \n",
       "1220         0.052514  0.015863 -0.110445 -0.091851 -0.005122 -0.026190   \n",
       "1221         0.063916  0.241344 -0.183550  0.097486  0.246338  0.408816   \n",
       "\n",
       "question_id      6491      6493      6494  \n",
       "question_id                                \n",
       "1215        -0.184246 -0.185468  0.026411  \n",
       "1217         0.180594 -0.240333 -0.055345  \n",
       "1219        -0.107420 -0.177178 -0.156062  \n",
       "1220        -0.116793  0.093869  0.172138  \n",
       "1221        -0.020127  0.201594  0.188777  \n",
       "\n",
       "[5 rows x 66 columns]"
      ]
     },
     "execution_count": 116,
     "metadata": {},
     "output_type": "execute_result"
    }
   ],
   "source": [
    "pearson1.head()"
   ]
  },
  {
   "cell_type": "code",
   "execution_count": 95,
   "metadata": {},
   "outputs": [
    {
     "data": {
      "image/png": "[encoded data removed]",
      "text/plain": [
       "<matplotlib.figure.Figure at 0x7f972a50c160>"
      ]
     },
     "metadata": {},
     "output_type": "display_data"
    }
   ],
   "source": [
    "from sklearn.decomposition import PCA\n",
    "from projections.base_projection import *\n",
    "model = PCA(n_components=2)\n",
    "result = model.fit_transform(pearson1)\n",
    "# create a scatter plot of the projections\n",
    "x_positions = result[:, 0]\n",
    "y_positions = result[:, 1]\n",
    "\n",
    "colors = ['blue', 'green', 'red', 'darkcyan', 'magenta', 'orange', 'darkgray', 'purple']\n",
    "\n",
    "for i, row in data.iterrows():\n",
    "    if row['manual_label'] != 0:\n",
    "        plt.scatter(x_positions[i], y_positions[i], c=colors[row['manual_label'] - 1])\n",
    "        plt.annotate(row['question'], xy=(x_positions[i]+0.01, y_positions[i]), color=colors[row['manual_label'] - 1], fontsize=16)\n",
    "    else:\n",
    "        plt.scatter(x_positions[i], y_positions[i], c='black')\n",
    "        plt.annotate(row['question'], xy=(x_positions[i]+0.01, y_positions[i]), color='black')\n",
    "plt.gcf().set_size_inches(20, 15)\n",
    "# plt.title('dataset: Koncovky přídavných jmen, similarity measure: Pearson', fontsize=20, fontstyle='italic')\n",
    "# plt.savefig('visualizations/pearson-vis-labeledkoncovky-fontsize16.svg')\n",
    "plt.show()\n",
    "# projection = Projection(x_positions, y_positions, data.copy(), data_name='pridjmena', model=model)\n",
    "# projection.matplotlib_plot_with_manual_labels(figsize=(20,15), save_path='visualizations/editdistance-withthreshold-vis-%s.png' % dataset['name'], annotate=True)"
   ]
  },
  {
   "cell_type": "code",
   "execution_count": null,
   "metadata": {},
   "outputs": [],
   "source": []
  },
  {
   "cell_type": "code",
   "execution_count": null,
   "metadata": {},
   "outputs": [],
   "source": []
  },
  {
   "cell_type": "code",
   "execution_count": 12,
   "metadata": {},
   "outputs": [],
   "source": [
    "import numpy as np\n",
    "\n",
    "from matplotlib import pyplot as plt\n",
    "from scipy.cluster.hierarchy import dendrogram\n",
    "from sklearn.cluster import AgglomerativeClustering\n",
    "\n",
    "def plot_dendrogram(model, **kwargs):\n",
    "\n",
    "    # Children of hierarchical clustering\n",
    "    children = model.children_\n",
    "\n",
    "    # Distances between each pair of children\n",
    "    # Since we don't have this information, we can use a uniform one for plotting\n",
    "    distance = np.arange(children.shape[0])\n",
    "\n",
    "    # The number of observations contained in each cluster level\n",
    "    no_of_observations = np.arange(2, children.shape[0]+2)\n",
    "\n",
    "    # Create linkage matrix and then plot the dendrogram\n",
    "    linkage_matrix = np.column_stack([children, distance, no_of_observations]).astype(float)\n",
    "\n",
    "    # Plot the corresponding dendrogram\n",
    "    dendrogram(linkage_matrix, **kwargs)"
   ]
  },
  {
   "cell_type": "code",
   "execution_count": 14,
   "metadata": {},
   "outputs": [],
   "source": [
    "editdistance.index = labeled_word2vec_data['solution']\n",
    "word2vec.index = labeled_word2vec_data['solution']"
   ]
  },
  {
   "cell_type": "code",
   "execution_count": 43,
   "metadata": {},
   "outputs": [],
   "source": [
    "from sklearn.cluster import AgglomerativeClustering\n",
    "clustering = AgglomerativeClustering(n_clusters=len(dataset['labels']), affinity='euclidean', linkage='ward')"
   ]
  },
  {
   "cell_type": "code",
   "execution_count": 71,
   "metadata": {},
   "outputs": [],
   "source": [
    "from scipy.cluster import hierarchy"
   ]
  },
  {
   "cell_type": "code",
   "execution_count": 72,
   "metadata": {},
   "outputs": [],
   "source": [
    "children = model.children_\n",
    "\n",
    "# Distances between each pair of children\n",
    "# Since we don't have this information, we can use a uniform one for plotting\n",
    "distance = np.arange(children.shape[0])\n",
    "\n",
    "# The number of observations contained in each cluster level\n",
    "no_of_observations = np.arange(2, children.shape[0]+2)\n",
    "\n",
    "# Create linkage matrix and then plot the dendrogram\n",
    "linkage_matrix = np.column_stack([children, distance, no_of_observations]).astype(float)"
   ]
  },
  {
   "cell_type": "code",
   "execution_count": 90,
   "metadata": {},
   "outputs": [],
   "source": [
    "hierarchy.set_link_color_palette(None)"
   ]
  },
  {
   "cell_type": "code",
   "execution_count": 97,
   "metadata": {},
   "outputs": [],
   "source": [
    "colors = ['blue', 'green', 'red', 'darkcyan', 'magenta', 'orange', 'darkgray', 'purple']\n",
    "hierarchy.set_link_color_palette(colors)"
   ]
  },
  {
   "cell_type": "code",
   "execution_count": 137,
   "metadata": {},
   "outputs": [
    {
     "data": {
      "image/png": "[encoded data removed]",
      "text/plain": [
       "<matplotlib.figure.Figure at 0x7f562ed90128>"
      ]
     },
     "metadata": {},
     "output_type": "display_data"
    }
   ],
   "source": [
    "model = clustering.fit(editdistance)\n",
    "#https://github.com/scikit-learn/scikit-learn/blob/70cf4a676caa2d2dad2e3f6e4478d64bcb0506f7/examples/cluster/plot_hierarchical_clustering_dendrogram.py\n",
    "plt.title('Hierarchical Clustering Dendrogram')\n",
    "plot_dendrogram(model, labels=editdistance.index, color_threshold=31, above_threshold_color='black', leaf_font_size=15, leaf_rotation=90)\n",
    "plt.gcf().set_size_inches(20,10)\n",
    "plt.yticks(fontsize=14)\n",
    "# plt.ylabel('distance', fontsize=14)\n",
    "plt.title('')\n",
    "plt.savefig('hierarchicalclusteriing-editdistance-vyjmenovanaslovab.svg')\n",
    "plt.show()"
   ]
  },
  {
   "cell_type": "code",
   "execution_count": 60,
   "metadata": {},
   "outputs": [],
   "source": [
    "model = clustering.fit_predict(editdistance)"
   ]
  },
  {
   "cell_type": "code",
   "execution_count": 61,
   "metadata": {},
   "outputs": [
    {
     "data": {
      "text/html": [
       "<div>\n",
       "<style scoped>\n",
       "    .dataframe tbody tr th:only-of-type {\n",
       "        vertical-align: middle;\n",
       "    }\n",
       "\n",
       "    .dataframe tbody tr th {\n",
       "        vertical-align: top;\n",
       "    }\n",
       "\n",
       "    .dataframe thead th {\n",
       "        text-align: right;\n",
       "    }\n",
       "</style>\n",
       "<table border=\"1\" class=\"dataframe\">\n",
       "  <thead>\n",
       "    <tr style=\"text-align: right;\">\n",
       "      <th></th>\n",
       "      <th>label</th>\n",
       "      <th>word</th>\n",
       "    </tr>\n",
       "  </thead>\n",
       "  <tbody>\n",
       "    <tr>\n",
       "      <th>19</th>\n",
       "      <td>0</td>\n",
       "      <td>kobylka</td>\n",
       "    </tr>\n",
       "    <tr>\n",
       "      <th>4</th>\n",
       "      <td>0</td>\n",
       "      <td>kdyby</td>\n",
       "    </tr>\n",
       "    <tr>\n",
       "      <th>5</th>\n",
       "      <td>0</td>\n",
       "      <td>kdybyste</td>\n",
       "    </tr>\n",
       "    <tr>\n",
       "      <th>18</th>\n",
       "      <td>0</td>\n",
       "      <td>kobyla</td>\n",
       "    </tr>\n",
       "    <tr>\n",
       "      <th>33</th>\n",
       "      <td>1</td>\n",
       "      <td>dobytkářstvím</td>\n",
       "    </tr>\n",
       "    <tr>\n",
       "      <th>32</th>\n",
       "      <td>1</td>\n",
       "      <td>dobytkem</td>\n",
       "    </tr>\n",
       "    <tr>\n",
       "      <th>11</th>\n",
       "      <td>1</td>\n",
       "      <td>dobytek</td>\n",
       "    </tr>\n",
       "    <tr>\n",
       "      <th>12</th>\n",
       "      <td>1</td>\n",
       "      <td>dobytče</td>\n",
       "    </tr>\n",
       "    <tr>\n",
       "      <th>13</th>\n",
       "      <td>1</td>\n",
       "      <td>dobytkářství</td>\n",
       "    </tr>\n",
       "    <tr>\n",
       "      <th>31</th>\n",
       "      <td>2</td>\n",
       "      <td>byliny</td>\n",
       "    </tr>\n",
       "    <tr>\n",
       "      <th>17</th>\n",
       "      <td>2</td>\n",
       "      <td>bylinkář</td>\n",
       "    </tr>\n",
       "    <tr>\n",
       "      <th>16</th>\n",
       "      <td>2</td>\n",
       "      <td>bylinkový</td>\n",
       "    </tr>\n",
       "    <tr>\n",
       "      <th>15</th>\n",
       "      <td>2</td>\n",
       "      <td>bylinka</td>\n",
       "    </tr>\n",
       "    <tr>\n",
       "      <th>14</th>\n",
       "      <td>2</td>\n",
       "      <td>bylina</td>\n",
       "    </tr>\n",
       "    <tr>\n",
       "      <th>23</th>\n",
       "      <td>3</td>\n",
       "      <td>biofyzika</td>\n",
       "    </tr>\n",
       "    <tr>\n",
       "      <th>24</th>\n",
       "      <td>3</td>\n",
       "      <td>biologie</td>\n",
       "    </tr>\n",
       "    <tr>\n",
       "      <th>25</th>\n",
       "      <td>3</td>\n",
       "      <td>biotop</td>\n",
       "    </tr>\n",
       "    <tr>\n",
       "      <th>26</th>\n",
       "      <td>3</td>\n",
       "      <td>biorytmus</td>\n",
       "    </tr>\n",
       "    <tr>\n",
       "      <th>30</th>\n",
       "      <td>3</td>\n",
       "      <td>biblický</td>\n",
       "    </tr>\n",
       "    <tr>\n",
       "      <th>22</th>\n",
       "      <td>3</td>\n",
       "      <td>biochemik</td>\n",
       "    </tr>\n",
       "    <tr>\n",
       "      <th>21</th>\n",
       "      <td>3</td>\n",
       "      <td>biograf</td>\n",
       "    </tr>\n",
       "    <tr>\n",
       "      <th>38</th>\n",
       "      <td>3</td>\n",
       "      <td>biosféra</td>\n",
       "    </tr>\n",
       "    <tr>\n",
       "      <th>37</th>\n",
       "      <td>3</td>\n",
       "      <td>biografie</td>\n",
       "    </tr>\n",
       "    <tr>\n",
       "      <th>20</th>\n",
       "      <td>3</td>\n",
       "      <td>bible</td>\n",
       "    </tr>\n",
       "    <tr>\n",
       "      <th>1</th>\n",
       "      <td>4</td>\n",
       "      <td>abych</td>\n",
       "    </tr>\n",
       "    <tr>\n",
       "      <th>2</th>\n",
       "      <td>4</td>\n",
       "      <td>abys</td>\n",
       "    </tr>\n",
       "    <tr>\n",
       "      <th>3</th>\n",
       "      <td>4</td>\n",
       "      <td>abychom</td>\n",
       "    </tr>\n",
       "    <tr>\n",
       "      <th>0</th>\n",
       "      <td>4</td>\n",
       "      <td>aby</td>\n",
       "    </tr>\n",
       "    <tr>\n",
       "      <th>28</th>\n",
       "      <td>5</td>\n",
       "      <td>zbyly</td>\n",
       "    </tr>\n",
       "    <tr>\n",
       "      <th>7</th>\n",
       "      <td>5</td>\n",
       "      <td>zbylý</td>\n",
       "    </tr>\n",
       "    <tr>\n",
       "      <th>35</th>\n",
       "      <td>5</td>\n",
       "      <td>zbylé</td>\n",
       "    </tr>\n",
       "    <tr>\n",
       "      <th>27</th>\n",
       "      <td>5</td>\n",
       "      <td>zbyl</td>\n",
       "    </tr>\n",
       "    <tr>\n",
       "      <th>9</th>\n",
       "      <td>6</td>\n",
       "      <td>obyvatelstvo</td>\n",
       "    </tr>\n",
       "    <tr>\n",
       "      <th>10</th>\n",
       "      <td>6</td>\n",
       "      <td>obyvatelka</td>\n",
       "    </tr>\n",
       "    <tr>\n",
       "      <th>34</th>\n",
       "      <td>6</td>\n",
       "      <td>obyvatelstva</td>\n",
       "    </tr>\n",
       "    <tr>\n",
       "      <th>29</th>\n",
       "      <td>7</td>\n",
       "      <td>zbytek</td>\n",
       "    </tr>\n",
       "    <tr>\n",
       "      <th>8</th>\n",
       "      <td>7</td>\n",
       "      <td>zbytečný</td>\n",
       "    </tr>\n",
       "    <tr>\n",
       "      <th>36</th>\n",
       "      <td>7</td>\n",
       "      <td>zbytečné</td>\n",
       "    </tr>\n",
       "    <tr>\n",
       "      <th>6</th>\n",
       "      <td>7</td>\n",
       "      <td>zbytek</td>\n",
       "    </tr>\n",
       "  </tbody>\n",
       "</table>\n",
       "</div>"
      ],
      "text/plain": [
       "    label           word\n",
       "19      0        kobylka\n",
       "4       0          kdyby\n",
       "5       0       kdybyste\n",
       "18      0         kobyla\n",
       "33      1  dobytkářstvím\n",
       "32      1       dobytkem\n",
       "11      1        dobytek\n",
       "12      1        dobytče\n",
       "13      1   dobytkářství\n",
       "31      2         byliny\n",
       "17      2       bylinkář\n",
       "16      2      bylinkový\n",
       "15      2        bylinka\n",
       "14      2         bylina\n",
       "23      3      biofyzika\n",
       "24      3       biologie\n",
       "25      3         biotop\n",
       "26      3      biorytmus\n",
       "30      3       biblický\n",
       "22      3      biochemik\n",
       "21      3        biograf\n",
       "38      3       biosféra\n",
       "37      3      biografie\n",
       "20      3          bible\n",
       "1       4          abych\n",
       "2       4           abys\n",
       "3       4        abychom\n",
       "0       4            aby\n",
       "28      5          zbyly\n",
       "7       5          zbylý\n",
       "35      5          zbylé\n",
       "27      5           zbyl\n",
       "9       6   obyvatelstvo\n",
       "10      6     obyvatelka\n",
       "34      6   obyvatelstva\n",
       "29      7         zbytek\n",
       "8       7       zbytečný\n",
       "36      7       zbytečné\n",
       "6       7         zbytek"
      ]
     },
     "execution_count": 61,
     "metadata": {},
     "output_type": "execute_result"
    }
   ],
   "source": [
    "lol = pd.DataFrame({'label':model, 'word':word2vec.index})\n",
    "lol.sort_values(['label'])"
   ]
  },
  {
   "cell_type": "code",
   "execution_count": null,
   "metadata": {},
   "outputs": [],
   "source": []
  }
 ],
 "metadata": {
  "kernelspec": {
   "display_name": "Python 3",
   "language": "python",
   "name": "python3"
  },
  "language_info": {
   "codemirror_mode": {
    "name": "ipython",
    "version": 3
   },
   "file_extension": ".py",
   "mimetype": "text/x-python",
   "name": "python",
   "nbconvert_exporter": "python",
   "pygments_lexer": "ipython3",
   "version": "3.5.2"
  }
 },
 "nbformat": 4,
 "nbformat_minor": 2
}
